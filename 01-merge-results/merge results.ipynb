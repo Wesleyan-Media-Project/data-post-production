{
 "cells": [
  {
   "cell_type": "markdown",
   "id": "d2dfcab0",
   "metadata": {},
   "source": [
    "This notebook lays out instructions on how data and variables which went through different processing procedures are merged \n",
    "###  Follow these steps to merge and aggregate data and variables\n",
    "1. Load ad metadata table (the masterfile, queried in the data paration step) that contains metadata for all ad types, such as ad_url, advertiser_id, impressions, etc.\n",
    "2. Add content variables for TEXT ads ('ad_title', 'ad_text') and remove duplicates \n",
    "3. Add variables particular to VIDEO ads ('google_asr_text', 'aws_ocr_video_text', 'aws_face_vid')\n",
    "4. Add variables particular to IMAGE ads ('aws_ocr_img_text', 'aws_face_vid')"
   ]
  },
  {
   "cell_type": "markdown",
   "id": "27efe734",
   "metadata": {},
   "source": [
    "### Step 1: Load ad metadata table (ad_id level masterfile)"
   ]
  },
  {
   "cell_type": "code",
   "execution_count": 2,
   "id": "b3e88b2c",
   "metadata": {},
   "outputs": [],
   "source": [
    "import os\n",
    "import pandas as pd"
   ]
  },
  {
   "cell_type": "code",
   "execution_count": 15,
   "id": "9520e10b",
   "metadata": {},
   "outputs": [],
   "source": [
    "my_metadata_filepath = ''"
   ]
  },
  {
   "cell_type": "code",
   "execution_count": 12,
   "id": "3294204c",
   "metadata": {},
   "outputs": [],
   "source": [
    "df = pd.read_csv(my_metadata_filepath)"
   ]
  },
  {
   "cell_type": "code",
   "execution_count": 20,
   "id": "eba3b919",
   "metadata": {},
   "outputs": [
    {
     "name": "stdout",
     "output_type": "stream",
     "text": [
      "Index(['index', 'ad_id', 'ad_url', 'ad_type', 'advertiser_id',\n",
      "       'advertiser_name', 'date_range_start', 'date_range_end', 'num_of_days',\n",
      "       'impressions', 'age_targeting', 'gender_targeting',\n",
      "       'geo_targeting_included', 'geo_targeting_excluded',\n",
      "       'spend_range_min_usd', 'spend_range_max_usd'],\n",
      "      dtype='object')\n"
     ]
    },
    {
     "data": {
      "text/html": [
       "<div>\n",
       "<style scoped>\n",
       "    .dataframe tbody tr th:only-of-type {\n",
       "        vertical-align: middle;\n",
       "    }\n",
       "\n",
       "    .dataframe tbody tr th {\n",
       "        vertical-align: top;\n",
       "    }\n",
       "\n",
       "    .dataframe thead th {\n",
       "        text-align: right;\n",
       "    }\n",
       "</style>\n",
       "<table border=\"1\" class=\"dataframe\">\n",
       "  <thead>\n",
       "    <tr style=\"text-align: right;\">\n",
       "      <th></th>\n",
       "      <th>index</th>\n",
       "      <th>ad_id</th>\n",
       "      <th>ad_url</th>\n",
       "      <th>ad_type</th>\n",
       "      <th>advertiser_id</th>\n",
       "      <th>advertiser_name</th>\n",
       "      <th>date_range_start</th>\n",
       "      <th>date_range_end</th>\n",
       "      <th>num_of_days</th>\n",
       "      <th>impressions</th>\n",
       "      <th>age_targeting</th>\n",
       "      <th>gender_targeting</th>\n",
       "      <th>geo_targeting_included</th>\n",
       "      <th>geo_targeting_excluded</th>\n",
       "      <th>spend_range_min_usd</th>\n",
       "      <th>spend_range_max_usd</th>\n",
       "    </tr>\n",
       "  </thead>\n",
       "  <tbody>\n",
       "    <tr>\n",
       "      <th>0</th>\n",
       "      <td>27953</td>\n",
       "      <td>CR00000257354440376321</td>\n",
       "      <td>https://adstransparency.google.com/advertiser/...</td>\n",
       "      <td>VIDEO</td>\n",
       "      <td>AR08588079303567081473</td>\n",
       "      <td>Abrams For Governor</td>\n",
       "      <td>2022-08-03</td>\n",
       "      <td>2022-09-13</td>\n",
       "      <td>41</td>\n",
       "      <td>400000-450000</td>\n",
       "      <td>18-24, 25-34, 35-44, 45-54, 55-64, ≥65</td>\n",
       "      <td>Male, Female, Unknown gender</td>\n",
       "      <td>30008,Georgia,United States, 30012,Georgia,Uni...</td>\n",
       "      <td>Alabama,United States, Florida,United States, ...</td>\n",
       "      <td>5000</td>\n",
       "      <td>6000</td>\n",
       "    </tr>\n",
       "    <tr>\n",
       "      <th>1</th>\n",
       "      <td>12080</td>\n",
       "      <td>CR00000354386341527553</td>\n",
       "      <td>https://adstransparency.google.com/advertiser/...</td>\n",
       "      <td>TEXT</td>\n",
       "      <td>AR03715945093920718849</td>\n",
       "      <td>PROGRESSNOW COLORADO</td>\n",
       "      <td>2022-11-07</td>\n",
       "      <td>2022-11-08</td>\n",
       "      <td>3</td>\n",
       "      <td>0-1000</td>\n",
       "      <td>NaN</td>\n",
       "      <td>NaN</td>\n",
       "      <td>80120,Colorado,United States, 80121,Colorado,U...</td>\n",
       "      <td>Arizona,United States, California,United State...</td>\n",
       "      <td>0</td>\n",
       "      <td>100</td>\n",
       "    </tr>\n",
       "    <tr>\n",
       "      <th>2</th>\n",
       "      <td>7192</td>\n",
       "      <td>CR00000387990165651457</td>\n",
       "      <td>https://adstransparency.google.com/advertiser/...</td>\n",
       "      <td>TEXT</td>\n",
       "      <td>AR02250229023886016513</td>\n",
       "      <td>Mo Kashmiri for Sacramento County Office of Ed...</td>\n",
       "      <td>2022-05-15</td>\n",
       "      <td>2022-06-09</td>\n",
       "      <td>27</td>\n",
       "      <td>2000-3000</td>\n",
       "      <td>NaN</td>\n",
       "      <td>NaN</td>\n",
       "      <td>95811,California,United States, 95814,Californ...</td>\n",
       "      <td>NaN</td>\n",
       "      <td>500</td>\n",
       "      <td>600</td>\n",
       "    </tr>\n",
       "    <tr>\n",
       "      <th>3</th>\n",
       "      <td>51899</td>\n",
       "      <td>CR00000440354406924289</td>\n",
       "      <td>https://adstransparency.google.com/advertiser/...</td>\n",
       "      <td>IMAGE</td>\n",
       "      <td>AR11849446020951834625</td>\n",
       "      <td>YANG FOR NEW YORK INC</td>\n",
       "      <td>2021-05-13</td>\n",
       "      <td>2021-06-07</td>\n",
       "      <td>25</td>\n",
       "      <td>1000-2000</td>\n",
       "      <td>NaN</td>\n",
       "      <td>NaN</td>\n",
       "      <td>Brooklyn,New York,United States</td>\n",
       "      <td>11204,New York,United States, 11219,New York,U...</td>\n",
       "      <td>0</td>\n",
       "      <td>100</td>\n",
       "    </tr>\n",
       "  </tbody>\n",
       "</table>\n",
       "</div>"
      ],
      "text/plain": [
       "   index                   ad_id  \\\n",
       "0  27953  CR00000257354440376321   \n",
       "1  12080  CR00000354386341527553   \n",
       "2   7192  CR00000387990165651457   \n",
       "3  51899  CR00000440354406924289   \n",
       "\n",
       "                                              ad_url ad_type  \\\n",
       "0  https://adstransparency.google.com/advertiser/...   VIDEO   \n",
       "1  https://adstransparency.google.com/advertiser/...    TEXT   \n",
       "2  https://adstransparency.google.com/advertiser/...    TEXT   \n",
       "3  https://adstransparency.google.com/advertiser/...   IMAGE   \n",
       "\n",
       "            advertiser_id                                    advertiser_name  \\\n",
       "0  AR08588079303567081473                                Abrams For Governor   \n",
       "1  AR03715945093920718849                               PROGRESSNOW COLORADO   \n",
       "2  AR02250229023886016513  Mo Kashmiri for Sacramento County Office of Ed...   \n",
       "3  AR11849446020951834625                              YANG FOR NEW YORK INC   \n",
       "\n",
       "  date_range_start date_range_end  num_of_days    impressions  \\\n",
       "0       2022-08-03     2022-09-13           41  400000-450000   \n",
       "1       2022-11-07     2022-11-08            3         0-1000   \n",
       "2       2022-05-15     2022-06-09           27      2000-3000   \n",
       "3       2021-05-13     2021-06-07           25      1000-2000   \n",
       "\n",
       "                            age_targeting              gender_targeting  \\\n",
       "0  18-24, 25-34, 35-44, 45-54, 55-64, ≥65  Male, Female, Unknown gender   \n",
       "1                                     NaN                           NaN   \n",
       "2                                     NaN                           NaN   \n",
       "3                                     NaN                           NaN   \n",
       "\n",
       "                              geo_targeting_included  \\\n",
       "0  30008,Georgia,United States, 30012,Georgia,Uni...   \n",
       "1  80120,Colorado,United States, 80121,Colorado,U...   \n",
       "2  95811,California,United States, 95814,Californ...   \n",
       "3                    Brooklyn,New York,United States   \n",
       "\n",
       "                              geo_targeting_excluded  spend_range_min_usd  \\\n",
       "0  Alabama,United States, Florida,United States, ...                 5000   \n",
       "1  Arizona,United States, California,United State...                    0   \n",
       "2                                                NaN                  500   \n",
       "3  11204,New York,United States, 11219,New York,U...                    0   \n",
       "\n",
       "   spend_range_max_usd  \n",
       "0                 6000  \n",
       "1                  100  \n",
       "2                  600  \n",
       "3                  100  "
      ]
     },
     "execution_count": 20,
     "metadata": {},
     "output_type": "execute_result"
    }
   ],
   "source": [
    "'''\n",
    "Preview of the ad metadata table prepared from the repo image-video-data-preparation\n",
    "Contains all ad types: TEXT, VIDEO, IMAGE\n",
    "'''\n",
    "print(df.columns)\n",
    "df.head(4)"
   ]
  },
  {
   "cell_type": "markdown",
   "id": "ae9e1999",
   "metadata": {},
   "source": [
    "### Step 2: Add content variables for TEXT ads and remove duplicates"
   ]
  },
  {
   "cell_type": "code",
   "execution_count": 16,
   "id": "ed01678f",
   "metadata": {},
   "outputs": [],
   "source": [
    "text = pd.read_csv(source_path + \"01_prepare_ad_media/g2022_ad_text.csv\")"
   ]
  },
  {
   "cell_type": "code",
   "execution_count": 21,
   "id": "ef0b3de3",
   "metadata": {},
   "outputs": [
    {
     "name": "stdout",
     "output_type": "stream",
     "text": [
      "Index(['ad_id', 'ad_title', 'ad_text', 'url', 'all_urls'], dtype='object')\n"
     ]
    },
    {
     "data": {
      "text/html": [
       "<div>\n",
       "<style scoped>\n",
       "    .dataframe tbody tr th:only-of-type {\n",
       "        vertical-align: middle;\n",
       "    }\n",
       "\n",
       "    .dataframe tbody tr th {\n",
       "        vertical-align: top;\n",
       "    }\n",
       "\n",
       "    .dataframe thead th {\n",
       "        text-align: right;\n",
       "    }\n",
       "</style>\n",
       "<table border=\"1\" class=\"dataframe\">\n",
       "  <thead>\n",
       "    <tr style=\"text-align: right;\">\n",
       "      <th></th>\n",
       "      <th>ad_id</th>\n",
       "      <th>ad_title</th>\n",
       "      <th>ad_text</th>\n",
       "      <th>url</th>\n",
       "      <th>all_urls</th>\n",
       "    </tr>\n",
       "  </thead>\n",
       "  <tbody>\n",
       "    <tr>\n",
       "      <th>0</th>\n",
       "      <td>CR00222350456913920001</td>\n",
       "      <td>Paul Tonko For Congress</td>\n",
       "      <td>Paul doesn’t care about partisan games. He is ...</td>\n",
       "      <td>secure.actblue.com/</td>\n",
       "      <td>NaN</td>\n",
       "    </tr>\n",
       "    <tr>\n",
       "      <th>1</th>\n",
       "      <td>CR00208584571334164481</td>\n",
       "      <td>NaN</td>\n",
       "      <td>NaN</td>\n",
       "      <td>https://adstransparency.google.com/advertiser/...</td>\n",
       "      <td>NaN</td>\n",
       "    </tr>\n",
       "    <tr>\n",
       "      <th>2</th>\n",
       "      <td>CR00004163369498050561</td>\n",
       "      <td>NaN</td>\n",
       "      <td>NaN</td>\n",
       "      <td>https://adstransparency.google.com/advertiser/...</td>\n",
       "      <td>NaN</td>\n",
       "    </tr>\n",
       "    <tr>\n",
       "      <th>3</th>\n",
       "      <td>CR00009722500288086017</td>\n",
       "      <td>NaN</td>\n",
       "      <td>NaN</td>\n",
       "      <td>https://adstransparency.google.com/advertiser/...</td>\n",
       "      <td>NaN</td>\n",
       "    </tr>\n",
       "  </tbody>\n",
       "</table>\n",
       "</div>"
      ],
      "text/plain": [
       "                    ad_id                 ad_title  \\\n",
       "0  CR00222350456913920001  Paul Tonko For Congress   \n",
       "1  CR00208584571334164481                      NaN   \n",
       "2  CR00004163369498050561                      NaN   \n",
       "3  CR00009722500288086017                      NaN   \n",
       "\n",
       "                                             ad_text  \\\n",
       "0  Paul doesn’t care about partisan games. He is ...   \n",
       "1                                                NaN   \n",
       "2                                                NaN   \n",
       "3                                                NaN   \n",
       "\n",
       "                                                 url all_urls  \n",
       "0                                secure.actblue.com/      NaN  \n",
       "1  https://adstransparency.google.com/advertiser/...      NaN  \n",
       "2  https://adstransparency.google.com/advertiser/...      NaN  \n",
       "3  https://adstransparency.google.com/advertiser/...      NaN  "
      ]
     },
     "execution_count": 21,
     "metadata": {},
     "output_type": "execute_result"
    }
   ],
   "source": [
    "'''\n",
    "Preview of text ad data variables\n",
    "'''\n",
    "\n",
    "print(text.columns)\n",
    "text.head(4)"
   ]
  },
  {
   "cell_type": "code",
   "execution_count": 24,
   "id": "2787ec6a",
   "metadata": {},
   "outputs": [
    {
     "data": {
      "text/html": [
       "<div>\n",
       "<style scoped>\n",
       "    .dataframe tbody tr th:only-of-type {\n",
       "        vertical-align: middle;\n",
       "    }\n",
       "\n",
       "    .dataframe tbody tr th {\n",
       "        vertical-align: top;\n",
       "    }\n",
       "\n",
       "    .dataframe thead th {\n",
       "        text-align: right;\n",
       "    }\n",
       "</style>\n",
       "<table border=\"1\" class=\"dataframe\">\n",
       "  <thead>\n",
       "    <tr style=\"text-align: right;\">\n",
       "      <th></th>\n",
       "      <th>ad_id</th>\n",
       "      <th>ad_title</th>\n",
       "      <th>ad_text</th>\n",
       "      <th>url</th>\n",
       "      <th>all_urls</th>\n",
       "    </tr>\n",
       "  </thead>\n",
       "  <tbody>\n",
       "    <tr>\n",
       "      <th>8565</th>\n",
       "      <td>CR00000501995777556481</td>\n",
       "      <td>NaN</td>\n",
       "      <td>1 Message Pending\\nView Pending Messages\\nNow</td>\n",
       "      <td>https://adstransparency.google.com/advertiser/...</td>\n",
       "      <td>https://theblueballot.com/stim/</td>\n",
       "    </tr>\n",
       "    <tr>\n",
       "      <th>8564</th>\n",
       "      <td>CR00000501995777556481</td>\n",
       "      <td>NaN</td>\n",
       "      <td>1 Message Pending\\nView Pending Messages\\nNow</td>\n",
       "      <td>https://adstransparency.google.com/advertiser/...</td>\n",
       "      <td>https://theblueballot.com/stim/</td>\n",
       "    </tr>\n",
       "    <tr>\n",
       "      <th>96089</th>\n",
       "      <td>CR00001341747783270401</td>\n",
       "      <td>NaN</td>\n",
       "      <td>Who's on my ballot?\\nThe 2022 Maine\\nIndepende...</td>\n",
       "      <td>https://adstransparency.google.com/advertiser/...</td>\n",
       "      <td>https://join.goodparty.org/voter-guide/?utm_so...</td>\n",
       "    </tr>\n",
       "    <tr>\n",
       "      <th>96090</th>\n",
       "      <td>CR00001341747783270401</td>\n",
       "      <td>NaN</td>\n",
       "      <td>Who's on my ballot?\\nThe 2022 Maine\\nIndepende...</td>\n",
       "      <td>https://adstransparency.google.com/advertiser/...</td>\n",
       "      <td>https://join.goodparty.org/voter-guide/?utm_so...</td>\n",
       "    </tr>\n",
       "  </tbody>\n",
       "</table>\n",
       "</div>"
      ],
      "text/plain": [
       "                        ad_id ad_title  \\\n",
       "8565   CR00000501995777556481      NaN   \n",
       "8564   CR00000501995777556481      NaN   \n",
       "96089  CR00001341747783270401      NaN   \n",
       "96090  CR00001341747783270401      NaN   \n",
       "\n",
       "                                                 ad_text  \\\n",
       "8565       1 Message Pending\\nView Pending Messages\\nNow   \n",
       "8564       1 Message Pending\\nView Pending Messages\\nNow   \n",
       "96089  Who's on my ballot?\\nThe 2022 Maine\\nIndepende...   \n",
       "96090  Who's on my ballot?\\nThe 2022 Maine\\nIndepende...   \n",
       "\n",
       "                                                     url  \\\n",
       "8565   https://adstransparency.google.com/advertiser/...   \n",
       "8564   https://adstransparency.google.com/advertiser/...   \n",
       "96089  https://adstransparency.google.com/advertiser/...   \n",
       "96090  https://adstransparency.google.com/advertiser/...   \n",
       "\n",
       "                                                all_urls  \n",
       "8565                     https://theblueballot.com/stim/  \n",
       "8564                     https://theblueballot.com/stim/  \n",
       "96089  https://join.goodparty.org/voter-guide/?utm_so...  \n",
       "96090  https://join.goodparty.org/voter-guide/?utm_so...  "
      ]
     },
     "execution_count": 24,
     "metadata": {},
     "output_type": "execute_result"
    }
   ],
   "source": [
    "'''\n",
    "Duplicates clearly exist in text data, for example:\n",
    "'''\n",
    "\n",
    "text.loc[text.duplicated(subset=['ad_id'], keep=False)].sort_values(by='ad_id').head(4)"
   ]
  },
  {
   "cell_type": "code",
   "execution_count": null,
   "id": "07e6f079",
   "metadata": {},
   "outputs": [],
   "source": [
    "'''\n",
    "Step 2.1: Drop duplicates based on all variables of the current table\n",
    "'''\n",
    "text.drop_duplicates(inplace=True)"
   ]
  },
  {
   "cell_type": "code",
   "execution_count": null,
   "id": "b6d2b3f7",
   "metadata": {},
   "outputs": [],
   "source": [
    "'''\n",
    "Step 2.2: Check ad url variable and keep the first value of duplicates\n",
    "'''\n",
    "text = text.drop_duplicates(subset=['ad_id'], keep='first')"
   ]
  },
  {
   "cell_type": "code",
   "execution_count": null,
   "id": "6b80671e",
   "metadata": {},
   "outputs": [],
   "source": [
    "'''\n",
    "Step 2.3: \n",
    "\n",
    "Merge these variables that contain text information (and additional url info) for text ads into the metadata table:\n",
    "\n",
    "'ad_id', 'ad_title', 'ad_text', 'all_urls' \n",
    "'''\n",
    "\n",
    "df = df.merge(text[['ad_id', 'ad_title', 'ad_text', 'all_urls']], how='left', on='ad_id')"
   ]
  },
  {
   "cell_type": "markdown",
   "id": "56317a79",
   "metadata": {},
   "source": [
    "### Step 3: Merge variables derived from video processing"
   ]
  },
  {
   "cell_type": "markdown",
   "id": "8541faa2",
   "metadata": {},
   "source": [
    "Merge video analysis results obtained from the **aws-rekognition-image-video-processing** repo\n",
    "\n",
    "Merge these variables into the metadata table: \n",
    "\n",
    "+ 'google_asr_text'\n",
    "+ 'aws_ocr_video_text'\n",
    "+ 'aws_face_vid'\n"
   ]
  },
  {
   "cell_type": "markdown",
   "id": "c53d11fd",
   "metadata": {},
   "source": [
    "### Step 4: Merge variables derived from image processing"
   ]
  },
  {
   "cell_type": "markdown",
   "id": "ddb03d2c",
   "metadata": {},
   "source": [
    "Merge image analysis results obtained from the **aws-rekognition-image-video-processing** repo\n",
    "\n",
    "+ 'aws_ocr_img_text'\n",
    "+ 'aws_face_vid'\n"
   ]
  },
  {
   "cell_type": "markdown",
   "id": "3e45faa9",
   "metadata": {},
   "source": [
    "### Step 5: Save final output table at the ad_id level"
   ]
  },
  {
   "cell_type": "code",
   "execution_count": null,
   "id": "4273ee3b",
   "metadata": {},
   "outputs": [],
   "source": [
    "outfilepath = 'outfile.csv'\n",
    "df.to_csv(outfilepath,\n",
    "          index=False,\n",
    "          compression={'method': 'gzip', 'compresslevel': 1, 'mtime': 1}) # if a compressed version is preferred"
   ]
  }
 ],
 "metadata": {
  "kernelspec": {
   "display_name": "Python 3 (ipykernel)",
   "language": "python",
   "name": "python3"
  },
  "language_info": {
   "codemirror_mode": {
    "name": "ipython",
    "version": 3
   },
   "file_extension": ".py",
   "mimetype": "text/x-python",
   "name": "python",
   "nbconvert_exporter": "python",
   "pygments_lexer": "ipython3",
   "version": "3.11.4"
  }
 },
 "nbformat": 4,
 "nbformat_minor": 5
}
