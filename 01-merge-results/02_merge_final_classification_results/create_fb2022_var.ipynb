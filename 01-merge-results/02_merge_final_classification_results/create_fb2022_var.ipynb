{
 "cells": [
  {
   "cell_type": "markdown",
   "metadata": {},
   "source": [
    "Adding post-processed variables for Facebook 2022 and create the \"var table\" (fb_adid_var.csv).\n",
    "\n",
    "Merging output from these repos: [entity_linking_2022](https://github.com/Wesleyan-Media-Project/entity_linking_2022), [ABSA](https://github.com/Wesleyan-Media-Project/ABSA), [race_of_focus](https://github.com/Wesleyan-Media-Project/race_of_focus),  [party_classifier](https://github.com/Wesleyan-Media-Project/party_classifier), [ad_tone](https://github.com/Wesleyan-Media-Project/ad_tone), [ad_goal_classifier](https://github.com/Wesleyan-Media-Project/ad_goal_classifier), [party_classifier_pdid](https://github.com/Wesleyan-Media-Project/party_classifier_pdid), and [issue_classifier](https://github.com/Wesleyan-Media-Project/issue_classifier)\n",
    "\n",
    "### Output table:\n",
    "+ fb_2022_adid_var.csv"
   ]
  },
  {
   "cell_type": "code",
   "execution_count": 1,
   "metadata": {
    "id": "3PhbowenmewR"
   },
   "outputs": [],
   "source": [
    "import pandas as pd\n",
    "import numpy as np\n",
    "import os"
   ]
  },
  {
   "cell_type": "markdown",
   "metadata": {
    "id": "P2gtz2uVEcw4"
   },
   "source": [
    "### Load fb2022 var1"
   ]
  },
  {
   "cell_type": "code",
   "execution_count": 2,
   "metadata": {},
   "outputs": [],
   "source": [
    "'''\n",
    "Load the var1 table produced from \n",
    "\n",
    "data-post-production/01-merge-results/01_merge_preprocessed_multimedia_results.ipynb\n",
    "'''\n",
    "\n",
    "d = pd.read_csv(\"../../fb_2022_adid_var1.csv.gz\")"
   ]
  },
  {
   "cell_type": "code",
   "execution_count": 3,
   "metadata": {},
   "outputs": [
    {
     "data": {
      "text/plain": [
       "(377721, 15)"
      ]
     },
     "execution_count": 3,
     "metadata": {},
     "output_type": "execute_result"
    }
   ],
   "source": [
    "d.shape"
   ]
  },
  {
   "cell_type": "code",
   "execution_count": 4,
   "metadata": {},
   "outputs": [
    {
     "data": {
      "text/html": [
       "<div>\n",
       "<style scoped>\n",
       "    .dataframe tbody tr th:only-of-type {\n",
       "        vertical-align: middle;\n",
       "    }\n",
       "\n",
       "    .dataframe tbody tr th {\n",
       "        vertical-align: top;\n",
       "    }\n",
       "\n",
       "    .dataframe thead th {\n",
       "        text-align: right;\n",
       "    }\n",
       "</style>\n",
       "<table border=\"1\" class=\"dataframe\">\n",
       "  <thead>\n",
       "    <tr style=\"text-align: right;\">\n",
       "      <th></th>\n",
       "      <th>ad_id</th>\n",
       "      <th>page_id</th>\n",
       "      <th>ad_creation_time</th>\n",
       "      <th>ad_delivery_start_time</th>\n",
       "      <th>ad_delivery_stop_time</th>\n",
       "      <th>spend</th>\n",
       "      <th>impressions</th>\n",
       "      <th>region_distribution</th>\n",
       "      <th>demographic_distribution</th>\n",
       "      <th>publisher_platforms</th>\n",
       "      <th>potential_reach</th>\n",
       "      <th>pd_id</th>\n",
       "      <th>wmp_media_type</th>\n",
       "      <th>aws_face_vid</th>\n",
       "      <th>aws_face_img</th>\n",
       "    </tr>\n",
       "  </thead>\n",
       "  <tbody>\n",
       "    <tr>\n",
       "      <th>0</th>\n",
       "      <td>x_1100321017564452</td>\n",
       "      <td>260713150211</td>\n",
       "      <td>2022-08-12</td>\n",
       "      <td>2022-08-13</td>\n",
       "      <td>2023-01-06</td>\n",
       "      <td>{\"lower_bound\":\"100\",\"upper_bound\":\"199\"}</td>\n",
       "      <td>{\"lower_bound\":\"2000\",\"upper_bound\":\"2999\"}</td>\n",
       "      <td>[{\"percentage\":\"0.005223\",\"region\":\"Mississipp...</td>\n",
       "      <td>[{\"percentage\":\"0.005834\",\"age\":\"18-24\",\"gende...</td>\n",
       "      <td>[\"facebook\",\"instagram\"]</td>\n",
       "      <td>{\"lower_bound\":\"1000001\"}</td>\n",
       "      <td>pd-260713150211-4</td>\n",
       "      <td>image</td>\n",
       "      <td>NaN</td>\n",
       "      <td>NaN</td>\n",
       "    </tr>\n",
       "    <tr>\n",
       "      <th>1</th>\n",
       "      <td>x_624349849305317</td>\n",
       "      <td>154561574598964</td>\n",
       "      <td>2022-08-29</td>\n",
       "      <td>2022-08-30</td>\n",
       "      <td>2023-01-08</td>\n",
       "      <td>{\"lower_bound\":\"1500\",\"upper_bound\":\"1999\"}</td>\n",
       "      <td>{\"lower_bound\":\"175000\",\"upper_bound\":\"199999\"}</td>\n",
       "      <td>[{\"percentage\":\"1.0E-5\",\"region\":\"Comunidad Va...</td>\n",
       "      <td>[{\"percentage\":\"0.000698\",\"age\":\"25-34\",\"gende...</td>\n",
       "      <td>facebook</td>\n",
       "      <td>{\"lower_bound\":\"1000001\"}</td>\n",
       "      <td>pd-154561574598964-4</td>\n",
       "      <td>image</td>\n",
       "      <td>NaN</td>\n",
       "      <td>WMPID5215</td>\n",
       "    </tr>\n",
       "  </tbody>\n",
       "</table>\n",
       "</div>"
      ],
      "text/plain": [
       "                ad_id          page_id ad_creation_time  \\\n",
       "0  x_1100321017564452     260713150211       2022-08-12   \n",
       "1   x_624349849305317  154561574598964       2022-08-29   \n",
       "\n",
       "  ad_delivery_start_time ad_delivery_stop_time  \\\n",
       "0             2022-08-13            2023-01-06   \n",
       "1             2022-08-30            2023-01-08   \n",
       "\n",
       "                                         spend  \\\n",
       "0    {\"lower_bound\":\"100\",\"upper_bound\":\"199\"}   \n",
       "1  {\"lower_bound\":\"1500\",\"upper_bound\":\"1999\"}   \n",
       "\n",
       "                                       impressions  \\\n",
       "0      {\"lower_bound\":\"2000\",\"upper_bound\":\"2999\"}   \n",
       "1  {\"lower_bound\":\"175000\",\"upper_bound\":\"199999\"}   \n",
       "\n",
       "                                 region_distribution  \\\n",
       "0  [{\"percentage\":\"0.005223\",\"region\":\"Mississipp...   \n",
       "1  [{\"percentage\":\"1.0E-5\",\"region\":\"Comunidad Va...   \n",
       "\n",
       "                            demographic_distribution  \\\n",
       "0  [{\"percentage\":\"0.005834\",\"age\":\"18-24\",\"gende...   \n",
       "1  [{\"percentage\":\"0.000698\",\"age\":\"25-34\",\"gende...   \n",
       "\n",
       "        publisher_platforms            potential_reach                 pd_id  \\\n",
       "0  [\"facebook\",\"instagram\"]  {\"lower_bound\":\"1000001\"}     pd-260713150211-4   \n",
       "1                  facebook  {\"lower_bound\":\"1000001\"}  pd-154561574598964-4   \n",
       "\n",
       "  wmp_media_type aws_face_vid aws_face_img  \n",
       "0          image          NaN          NaN  \n",
       "1          image          NaN    WMPID5215  "
      ]
     },
     "execution_count": 4,
     "metadata": {},
     "output_type": "execute_result"
    }
   ],
   "source": [
    "d.head(2)"
   ]
  },
  {
   "cell_type": "code",
   "execution_count": 5,
   "metadata": {},
   "outputs": [
    {
     "data": {
      "text/plain": [
       "array([nan, 'WMPID5281', 'WMPID1289', ..., 'WMPID873,WMPID84',\n",
       "       'WMPID1052,WMPID84', 'WMPID406,WMPID1289,WMPID1533'], dtype=object)"
      ]
     },
     "execution_count": 5,
     "metadata": {},
     "output_type": "execute_result"
    }
   ],
   "source": [
    "d['aws_face_vid'].unique()"
   ]
  },
  {
   "cell_type": "markdown",
   "metadata": {},
   "source": [
    "### Add race of focus"
   ]
  },
  {
   "cell_type": "code",
   "execution_count": 6,
   "metadata": {},
   "outputs": [],
   "source": [
    "rof = pd.read_csv(\"../../../race_of_focus/data/race_of_focus_fb2022.csv\")"
   ]
  },
  {
   "cell_type": "code",
   "execution_count": 7,
   "metadata": {},
   "outputs": [
    {
     "data": {
      "text/plain": [
       "(377721, 4)"
      ]
     },
     "execution_count": 7,
     "metadata": {},
     "output_type": "execute_result"
    }
   ],
   "source": [
    "rof.shape"
   ]
  },
  {
   "cell_type": "code",
   "execution_count": 8,
   "metadata": {},
   "outputs": [
    {
     "data": {
      "text/html": [
       "<div>\n",
       "<style scoped>\n",
       "    .dataframe tbody tr th:only-of-type {\n",
       "        vertical-align: middle;\n",
       "    }\n",
       "\n",
       "    .dataframe tbody tr th {\n",
       "        vertical-align: top;\n",
       "    }\n",
       "\n",
       "    .dataframe thead th {\n",
       "        text-align: right;\n",
       "    }\n",
       "</style>\n",
       "<table border=\"1\" class=\"dataframe\">\n",
       "  <thead>\n",
       "    <tr style=\"text-align: right;\">\n",
       "      <th></th>\n",
       "      <th>ad_id</th>\n",
       "      <th>sub_bucket</th>\n",
       "      <th>race_of_focus</th>\n",
       "      <th>race_of_focus_region_pct</th>\n",
       "    </tr>\n",
       "  </thead>\n",
       "  <tbody>\n",
       "    <tr>\n",
       "      <th>0</th>\n",
       "      <td>x_1100321017564452</td>\n",
       "      <td>3.3</td>\n",
       "      <td>No race of focus</td>\n",
       "      <td>NaN</td>\n",
       "    </tr>\n",
       "    <tr>\n",
       "      <th>1</th>\n",
       "      <td>x_624349849305317</td>\n",
       "      <td>3.3</td>\n",
       "      <td>No race of focus</td>\n",
       "      <td>NaN</td>\n",
       "    </tr>\n",
       "  </tbody>\n",
       "</table>\n",
       "</div>"
      ],
      "text/plain": [
       "                ad_id sub_bucket     race_of_focus  race_of_focus_region_pct\n",
       "0  x_1100321017564452        3.3  No race of focus                       NaN\n",
       "1   x_624349849305317        3.3  No race of focus                       NaN"
      ]
     },
     "execution_count": 8,
     "metadata": {},
     "output_type": "execute_result"
    }
   ],
   "source": [
    "rof.head(2)"
   ]
  },
  {
   "cell_type": "code",
   "execution_count": 9,
   "metadata": {},
   "outputs": [],
   "source": [
    "d = d.merge(rof, on='ad_id', how='left')"
   ]
  },
  {
   "cell_type": "markdown",
   "metadata": {},
   "source": [
    "### Add tone - constructed"
   ]
  },
  {
   "cell_type": "code",
   "execution_count": 10,
   "metadata": {},
   "outputs": [],
   "source": [
    "tone_c=pd.read_csv(\"../../../ad_tone/data/ad_tone_constructed_fb2022.csv.gz\")"
   ]
  },
  {
   "cell_type": "code",
   "execution_count": 11,
   "metadata": {},
   "outputs": [
    {
     "data": {
      "text/plain": [
       "(91221, 2)"
      ]
     },
     "execution_count": 11,
     "metadata": {},
     "output_type": "execute_result"
    }
   ],
   "source": [
    "tone_c.shape"
   ]
  },
  {
   "cell_type": "code",
   "execution_count": 12,
   "metadata": {},
   "outputs": [
    {
     "data": {
      "text/html": [
       "<div>\n",
       "<style scoped>\n",
       "    .dataframe tbody tr th:only-of-type {\n",
       "        vertical-align: middle;\n",
       "    }\n",
       "\n",
       "    .dataframe tbody tr th {\n",
       "        vertical-align: top;\n",
       "    }\n",
       "\n",
       "    .dataframe thead th {\n",
       "        text-align: right;\n",
       "    }\n",
       "</style>\n",
       "<table border=\"1\" class=\"dataframe\">\n",
       "  <thead>\n",
       "    <tr style=\"text-align: right;\">\n",
       "      <th></th>\n",
       "      <th>ad_id</th>\n",
       "      <th>ad_tone_constructed</th>\n",
       "    </tr>\n",
       "  </thead>\n",
       "  <tbody>\n",
       "    <tr>\n",
       "      <th>0</th>\n",
       "      <td>x_337588521869565</td>\n",
       "      <td>Promote</td>\n",
       "    </tr>\n",
       "    <tr>\n",
       "      <th>1</th>\n",
       "      <td>x_340739824879297</td>\n",
       "      <td>Promote</td>\n",
       "    </tr>\n",
       "  </tbody>\n",
       "</table>\n",
       "</div>"
      ],
      "text/plain": [
       "               ad_id ad_tone_constructed\n",
       "0  x_337588521869565             Promote\n",
       "1  x_340739824879297             Promote"
      ]
     },
     "execution_count": 12,
     "metadata": {},
     "output_type": "execute_result"
    }
   ],
   "source": [
    "tone_c.head(2)"
   ]
  },
  {
   "cell_type": "code",
   "execution_count": 13,
   "metadata": {},
   "outputs": [],
   "source": [
    "d = d.merge(tone_c, on='ad_id', how='left')"
   ]
  },
  {
   "cell_type": "markdown",
   "metadata": {},
   "source": [
    "### Add tone - mentioned"
   ]
  },
  {
   "cell_type": "code",
   "execution_count": 14,
   "metadata": {},
   "outputs": [],
   "source": [
    "tone_m=pd.read_csv(\"../../../ad_tone/data/ad_tone_mentionbased_fb2022.csv\")"
   ]
  },
  {
   "cell_type": "code",
   "execution_count": 15,
   "metadata": {},
   "outputs": [
    {
     "data": {
      "text/plain": [
       "(46543, 2)"
      ]
     },
     "execution_count": 15,
     "metadata": {},
     "output_type": "execute_result"
    }
   ],
   "source": [
    "tone_m.shape"
   ]
  },
  {
   "cell_type": "code",
   "execution_count": 16,
   "metadata": {},
   "outputs": [
    {
     "data": {
      "text/html": [
       "<div>\n",
       "<style scoped>\n",
       "    .dataframe tbody tr th:only-of-type {\n",
       "        vertical-align: middle;\n",
       "    }\n",
       "\n",
       "    .dataframe tbody tr th {\n",
       "        vertical-align: top;\n",
       "    }\n",
       "\n",
       "    .dataframe thead th {\n",
       "        text-align: right;\n",
       "    }\n",
       "</style>\n",
       "<table border=\"1\" class=\"dataframe\">\n",
       "  <thead>\n",
       "    <tr style=\"text-align: right;\">\n",
       "      <th></th>\n",
       "      <th>ad_id</th>\n",
       "      <th>ad_tone</th>\n",
       "    </tr>\n",
       "  </thead>\n",
       "  <tbody>\n",
       "    <tr>\n",
       "      <th>0</th>\n",
       "      <td>x_337588521869565</td>\n",
       "      <td>Promote</td>\n",
       "    </tr>\n",
       "    <tr>\n",
       "      <th>1</th>\n",
       "      <td>x_340739824879297</td>\n",
       "      <td>Promote</td>\n",
       "    </tr>\n",
       "  </tbody>\n",
       "</table>\n",
       "</div>"
      ],
      "text/plain": [
       "               ad_id  ad_tone\n",
       "0  x_337588521869565  Promote\n",
       "1  x_340739824879297  Promote"
      ]
     },
     "execution_count": 16,
     "metadata": {},
     "output_type": "execute_result"
    }
   ],
   "source": [
    "tone_m.head(2)"
   ]
  },
  {
   "cell_type": "code",
   "execution_count": 17,
   "metadata": {},
   "outputs": [],
   "source": [
    "tone_m=tone_m.rename(columns={'ad_tone':'ad_tone_mentionbased'})"
   ]
  },
  {
   "cell_type": "code",
   "execution_count": 18,
   "metadata": {},
   "outputs": [],
   "source": [
    "d = d.merge(tone_m, on='ad_id', how='left')"
   ]
  },
  {
   "cell_type": "markdown",
   "metadata": {},
   "source": [
    "### Add goal"
   ]
  },
  {
   "cell_type": "code",
   "execution_count": 19,
   "metadata": {},
   "outputs": [],
   "source": [
    "goal = pd.read_csv(\"../../../ad_goal_classifier/data/ad_goal_rf_fb2022.csv.gz\")"
   ]
  },
  {
   "cell_type": "code",
   "execution_count": 20,
   "metadata": {},
   "outputs": [
    {
     "data": {
      "text/plain": [
       "(377721, 20)"
      ]
     },
     "execution_count": 20,
     "metadata": {},
     "output_type": "execute_result"
    }
   ],
   "source": [
    "goal.shape"
   ]
  },
  {
   "cell_type": "code",
   "execution_count": 21,
   "metadata": {},
   "outputs": [
    {
     "data": {
      "text/html": [
       "<div>\n",
       "<style scoped>\n",
       "    .dataframe tbody tr th:only-of-type {\n",
       "        vertical-align: middle;\n",
       "    }\n",
       "\n",
       "    .dataframe tbody tr th {\n",
       "        vertical-align: top;\n",
       "    }\n",
       "\n",
       "    .dataframe thead th {\n",
       "        text-align: right;\n",
       "    }\n",
       "</style>\n",
       "<table border=\"1\" class=\"dataframe\">\n",
       "  <thead>\n",
       "    <tr style=\"text-align: right;\">\n",
       "      <th></th>\n",
       "      <th>ad_id</th>\n",
       "      <th>goal_DONATE_prediction</th>\n",
       "      <th>goal_DONATE_predicted_prob</th>\n",
       "      <th>goal_CONTACT_prediction</th>\n",
       "      <th>goal_CONTACT_predicted_prob</th>\n",
       "      <th>goal_PURCHASE_prediction</th>\n",
       "      <th>goal_PURCHASE_predicted_prob</th>\n",
       "      <th>goal_GOTV_prediction</th>\n",
       "      <th>goal_GOTV_predicted_prob</th>\n",
       "      <th>goal_EVENT_prediction</th>\n",
       "      <th>goal_EVENT_predicted_prob</th>\n",
       "      <th>goal_POLL_prediction</th>\n",
       "      <th>goal_POLL_predicted_prob</th>\n",
       "      <th>goal_GATHERINFO_prediction</th>\n",
       "      <th>goal_GATHERINFO_predicted_prob</th>\n",
       "      <th>goal_LEARNMORE_prediction</th>\n",
       "      <th>goal_LEARNMORE_predicted_prob</th>\n",
       "      <th>goal_PRIMARY_PERSUADE_prediction</th>\n",
       "      <th>goal_PRIMARY_PERSUADE_predicted_prob</th>\n",
       "      <th>goal_highest_prob</th>\n",
       "    </tr>\n",
       "  </thead>\n",
       "  <tbody>\n",
       "    <tr>\n",
       "      <th>0</th>\n",
       "      <td>x_1100321017564452</td>\n",
       "      <td>0</td>\n",
       "      <td>0.002697</td>\n",
       "      <td>0</td>\n",
       "      <td>0.009425</td>\n",
       "      <td>0</td>\n",
       "      <td>0.012842</td>\n",
       "      <td>0</td>\n",
       "      <td>0.027895</td>\n",
       "      <td>0</td>\n",
       "      <td>0.003091</td>\n",
       "      <td>0</td>\n",
       "      <td>0.021264</td>\n",
       "      <td>0</td>\n",
       "      <td>0.111034</td>\n",
       "      <td>1</td>\n",
       "      <td>0.700723</td>\n",
       "      <td>1</td>\n",
       "      <td>0.620700</td>\n",
       "      <td>LEARNMORE</td>\n",
       "    </tr>\n",
       "    <tr>\n",
       "      <th>1</th>\n",
       "      <td>x_624349849305317</td>\n",
       "      <td>0</td>\n",
       "      <td>0.007991</td>\n",
       "      <td>0</td>\n",
       "      <td>0.007874</td>\n",
       "      <td>0</td>\n",
       "      <td>0.005900</td>\n",
       "      <td>0</td>\n",
       "      <td>0.025523</td>\n",
       "      <td>0</td>\n",
       "      <td>0.005360</td>\n",
       "      <td>0</td>\n",
       "      <td>0.008017</td>\n",
       "      <td>0</td>\n",
       "      <td>0.030201</td>\n",
       "      <td>1</td>\n",
       "      <td>0.588740</td>\n",
       "      <td>1</td>\n",
       "      <td>0.789359</td>\n",
       "      <td>PRIMARY_PERSUADE</td>\n",
       "    </tr>\n",
       "  </tbody>\n",
       "</table>\n",
       "</div>"
      ],
      "text/plain": [
       "                ad_id  goal_DONATE_prediction  goal_DONATE_predicted_prob  \\\n",
       "0  x_1100321017564452                       0                    0.002697   \n",
       "1   x_624349849305317                       0                    0.007991   \n",
       "\n",
       "   goal_CONTACT_prediction  goal_CONTACT_predicted_prob  \\\n",
       "0                        0                     0.009425   \n",
       "1                        0                     0.007874   \n",
       "\n",
       "   goal_PURCHASE_prediction  goal_PURCHASE_predicted_prob  \\\n",
       "0                         0                      0.012842   \n",
       "1                         0                      0.005900   \n",
       "\n",
       "   goal_GOTV_prediction  goal_GOTV_predicted_prob  goal_EVENT_prediction  \\\n",
       "0                     0                  0.027895                      0   \n",
       "1                     0                  0.025523                      0   \n",
       "\n",
       "   goal_EVENT_predicted_prob  goal_POLL_prediction  goal_POLL_predicted_prob  \\\n",
       "0                   0.003091                     0                  0.021264   \n",
       "1                   0.005360                     0                  0.008017   \n",
       "\n",
       "   goal_GATHERINFO_prediction  goal_GATHERINFO_predicted_prob  \\\n",
       "0                           0                        0.111034   \n",
       "1                           0                        0.030201   \n",
       "\n",
       "   goal_LEARNMORE_prediction  goal_LEARNMORE_predicted_prob  \\\n",
       "0                          1                       0.700723   \n",
       "1                          1                       0.588740   \n",
       "\n",
       "   goal_PRIMARY_PERSUADE_prediction  goal_PRIMARY_PERSUADE_predicted_prob  \\\n",
       "0                                 1                              0.620700   \n",
       "1                                 1                              0.789359   \n",
       "\n",
       "  goal_highest_prob  \n",
       "0         LEARNMORE  \n",
       "1  PRIMARY_PERSUADE  "
      ]
     },
     "execution_count": 21,
     "metadata": {},
     "output_type": "execute_result"
    }
   ],
   "source": [
    "goal.head(2)"
   ]
  },
  {
   "cell_type": "code",
   "execution_count": 22,
   "metadata": {},
   "outputs": [],
   "source": [
    "d = d.merge(goal, on='ad_id', how='left')"
   ]
  },
  {
   "cell_type": "markdown",
   "metadata": {},
   "source": [
    "### Add party classifier trained at the pdid level"
   ]
  },
  {
   "cell_type": "code",
   "execution_count": 23,
   "metadata": {},
   "outputs": [],
   "source": [
    "party_pdid = pd.read_csv(\"../../../party_classifier_pdid/party_all_clf_pdid_fb_2022.csv\")"
   ]
  },
  {
   "cell_type": "code",
   "execution_count": 24,
   "metadata": {},
   "outputs": [
    {
     "data": {
      "text/html": [
       "<div>\n",
       "<style scoped>\n",
       "    .dataframe tbody tr th:only-of-type {\n",
       "        vertical-align: middle;\n",
       "    }\n",
       "\n",
       "    .dataframe tbody tr th {\n",
       "        vertical-align: top;\n",
       "    }\n",
       "\n",
       "    .dataframe thead th {\n",
       "        text-align: right;\n",
       "    }\n",
       "</style>\n",
       "<table border=\"1\" class=\"dataframe\">\n",
       "  <thead>\n",
       "    <tr style=\"text-align: right;\">\n",
       "      <th></th>\n",
       "      <th>pd_id</th>\n",
       "      <th>party_all_clf_pdid</th>\n",
       "    </tr>\n",
       "  </thead>\n",
       "  <tbody>\n",
       "    <tr>\n",
       "      <th>0</th>\n",
       "      <td>pd-1000253160054572-3</td>\n",
       "      <td>DEM</td>\n",
       "    </tr>\n",
       "    <tr>\n",
       "      <th>1</th>\n",
       "      <td>pd-100053898949-2</td>\n",
       "      <td>REP</td>\n",
       "    </tr>\n",
       "  </tbody>\n",
       "</table>\n",
       "</div>"
      ],
      "text/plain": [
       "                   pd_id party_all_clf_pdid\n",
       "0  pd-1000253160054572-3                DEM\n",
       "1      pd-100053898949-2                REP"
      ]
     },
     "execution_count": 24,
     "metadata": {},
     "output_type": "execute_result"
    }
   ],
   "source": [
    "party_pdid.head(2)"
   ]
  },
  {
   "cell_type": "code",
   "execution_count": 25,
   "metadata": {
    "id": "Axt0E3urpWLn"
   },
   "outputs": [],
   "source": [
    "d = d.merge(party_pdid, on='pd_id', how='left')"
   ]
  },
  {
   "cell_type": "markdown",
   "metadata": {},
   "source": [
    "### Add party classifier at the ad level"
   ]
  },
  {
   "cell_type": "code",
   "execution_count": 26,
   "metadata": {},
   "outputs": [],
   "source": [
    "party_ad = pd.read_csv(\"../../../party_classifier (Ad Level)/data/facebook/party_predictions_fb_2022.csv.gz\")\n",
    "\n",
    "# This one was not in the 2020 so I did not include it\n",
    "#party_ad2 = pd.read_csv(\"../../../party_classifier (Ad Level)/data/facebook/party_predictions_fb_2022_both_model.csv.gz\")"
   ]
  },
  {
   "cell_type": "code",
   "execution_count": 27,
   "metadata": {},
   "outputs": [
    {
     "data": {
      "text/html": [
       "<div>\n",
       "<style scoped>\n",
       "    .dataframe tbody tr th:only-of-type {\n",
       "        vertical-align: middle;\n",
       "    }\n",
       "\n",
       "    .dataframe tbody tr th {\n",
       "        vertical-align: top;\n",
       "    }\n",
       "\n",
       "    .dataframe thead th {\n",
       "        text-align: right;\n",
       "    }\n",
       "</style>\n",
       "<table border=\"1\" class=\"dataframe\">\n",
       "  <thead>\n",
       "    <tr style=\"text-align: right;\">\n",
       "      <th></th>\n",
       "      <th>ad_id</th>\n",
       "      <th>prob_dem</th>\n",
       "      <th>prob_other</th>\n",
       "      <th>prob_rep</th>\n",
       "      <th>predicted_party_all</th>\n",
       "      <th>predicted_party_all_majvote</th>\n",
       "    </tr>\n",
       "  </thead>\n",
       "  <tbody>\n",
       "    <tr>\n",
       "      <th>0</th>\n",
       "      <td>x_1677811605924978</td>\n",
       "      <td>0.519075</td>\n",
       "      <td>0.0366</td>\n",
       "      <td>0.444326</td>\n",
       "      <td>DEM</td>\n",
       "      <td>DEM</td>\n",
       "    </tr>\n",
       "    <tr>\n",
       "      <th>1</th>\n",
       "      <td>x_5994752437219087</td>\n",
       "      <td>0.519075</td>\n",
       "      <td>0.0366</td>\n",
       "      <td>0.444326</td>\n",
       "      <td>DEM</td>\n",
       "      <td>DEM</td>\n",
       "    </tr>\n",
       "  </tbody>\n",
       "</table>\n",
       "</div>"
      ],
      "text/plain": [
       "                ad_id  prob_dem  prob_other  prob_rep predicted_party_all  \\\n",
       "0  x_1677811605924978  0.519075      0.0366  0.444326                 DEM   \n",
       "1  x_5994752437219087  0.519075      0.0366  0.444326                 DEM   \n",
       "\n",
       "  predicted_party_all_majvote  \n",
       "0                         DEM  \n",
       "1                         DEM  "
      ]
     },
     "execution_count": 27,
     "metadata": {},
     "output_type": "execute_result"
    }
   ],
   "source": [
    "party_ad.head(2)"
   ]
  },
  {
   "cell_type": "code",
   "execution_count": 28,
   "metadata": {},
   "outputs": [
    {
     "data": {
      "text/html": [
       "<div>\n",
       "<style scoped>\n",
       "    .dataframe tbody tr th:only-of-type {\n",
       "        vertical-align: middle;\n",
       "    }\n",
       "\n",
       "    .dataframe tbody tr th {\n",
       "        vertical-align: top;\n",
       "    }\n",
       "\n",
       "    .dataframe thead th {\n",
       "        text-align: right;\n",
       "    }\n",
       "</style>\n",
       "<table border=\"1\" class=\"dataframe\">\n",
       "  <thead>\n",
       "    <tr style=\"text-align: right;\">\n",
       "      <th></th>\n",
       "      <th>ad_id</th>\n",
       "      <th>prob_dem</th>\n",
       "      <th>prob_other</th>\n",
       "      <th>prob_rep</th>\n",
       "      <th>party_all_clf_adid</th>\n",
       "      <th>party_all_clf_adid_agg</th>\n",
       "    </tr>\n",
       "  </thead>\n",
       "  <tbody>\n",
       "    <tr>\n",
       "      <th>0</th>\n",
       "      <td>x_1677811605924978</td>\n",
       "      <td>0.519075</td>\n",
       "      <td>0.0366</td>\n",
       "      <td>0.444326</td>\n",
       "      <td>DEM</td>\n",
       "      <td>DEM</td>\n",
       "    </tr>\n",
       "    <tr>\n",
       "      <th>1</th>\n",
       "      <td>x_5994752437219087</td>\n",
       "      <td>0.519075</td>\n",
       "      <td>0.0366</td>\n",
       "      <td>0.444326</td>\n",
       "      <td>DEM</td>\n",
       "      <td>DEM</td>\n",
       "    </tr>\n",
       "  </tbody>\n",
       "</table>\n",
       "</div>"
      ],
      "text/plain": [
       "                ad_id  prob_dem  prob_other  prob_rep party_all_clf_adid  \\\n",
       "0  x_1677811605924978  0.519075      0.0366  0.444326                DEM   \n",
       "1  x_5994752437219087  0.519075      0.0366  0.444326                DEM   \n",
       "\n",
       "  party_all_clf_adid_agg  \n",
       "0                    DEM  \n",
       "1                    DEM  "
      ]
     },
     "execution_count": 28,
     "metadata": {},
     "output_type": "execute_result"
    }
   ],
   "source": [
    "party_ad.rename(columns={'predicted_party_all': 'party_all_clf_adid', \n",
    "                         'predicted_party_all_majvote': 'party_all_clf_adid_agg'}, inplace=True)\n",
    "party_ad.head(2)"
   ]
  },
  {
   "cell_type": "code",
   "execution_count": 29,
   "metadata": {},
   "outputs": [],
   "source": [
    "d = d.merge(party_ad, on='ad_id', how='left')"
   ]
  },
  {
   "cell_type": "markdown",
   "metadata": {},
   "source": [
    "### WMP party_all"
   ]
  },
  {
   "cell_type": "code",
   "execution_count": 30,
   "metadata": {},
   "outputs": [],
   "source": [
    "wmp = pd.read_csv(\"../../../datasets/wmp_entity_files/Facebook/2022/wmp_fb_2022_entities_v120122.csv\", usecols=['pd_id', 'party_all'])"
   ]
  },
  {
   "cell_type": "code",
   "execution_count": 31,
   "metadata": {
    "id": "eXvlESQFrDpC"
   },
   "outputs": [],
   "source": [
    "wmp = wmp.replace('MISSING', np.nan)"
   ]
  },
  {
   "cell_type": "code",
   "execution_count": 32,
   "metadata": {
    "scrolled": true
   },
   "outputs": [
    {
     "data": {
      "text/plain": [
       "party_all\n",
       "NaN      11727\n",
       "DEM       3146\n",
       "REP       3050\n",
       "OTHER      303\n",
       "Name: count, dtype: int64"
      ]
     },
     "execution_count": 32,
     "metadata": {},
     "output_type": "execute_result"
    }
   ],
   "source": [
    "wmp.party_all.value_counts(dropna=False)"
   ]
  },
  {
   "cell_type": "code",
   "execution_count": 33,
   "metadata": {
    "id": "61zj2HYoqoIf"
   },
   "outputs": [],
   "source": [
    "d = d.merge(wmp, on='pd_id', how='left')"
   ]
  },
  {
   "cell_type": "markdown",
   "metadata": {
    "id": "nsHwxHwrOZAW"
   },
   "source": [
    "### Add detected entities"
   ]
  },
  {
   "cell_type": "code",
   "execution_count": 34,
   "metadata": {},
   "outputs": [],
   "source": [
    "el = pd.read_csv(\"../../../entity_linking_2022/facebook/data/detected_entities_fb22.csv.gz\")"
   ]
  },
  {
   "cell_type": "code",
   "execution_count": 35,
   "metadata": {},
   "outputs": [
    {
     "data": {
      "text/plain": [
       "(168144, 2)"
      ]
     },
     "execution_count": 35,
     "metadata": {},
     "output_type": "execute_result"
    }
   ],
   "source": [
    "el.shape"
   ]
  },
  {
   "cell_type": "code",
   "execution_count": 36,
   "metadata": {},
   "outputs": [
    {
     "data": {
      "text/html": [
       "<div>\n",
       "<style scoped>\n",
       "    .dataframe tbody tr th:only-of-type {\n",
       "        vertical-align: middle;\n",
       "    }\n",
       "\n",
       "    .dataframe tbody tr th {\n",
       "        vertical-align: top;\n",
       "    }\n",
       "\n",
       "    .dataframe thead th {\n",
       "        text-align: right;\n",
       "    }\n",
       "</style>\n",
       "<table border=\"1\" class=\"dataframe\">\n",
       "  <thead>\n",
       "    <tr style=\"text-align: right;\">\n",
       "      <th></th>\n",
       "      <th>ad_id</th>\n",
       "      <th>detected_entities</th>\n",
       "    </tr>\n",
       "  </thead>\n",
       "  <tbody>\n",
       "    <tr>\n",
       "      <th>168139</th>\n",
       "      <td>x_999705858093151</td>\n",
       "      <td>WMPID1289|WMPID1289|WMPID1594|WMPID1289|WMPID1...</td>\n",
       "    </tr>\n",
       "    <tr>\n",
       "      <th>168140</th>\n",
       "      <td>x_999707127464521</td>\n",
       "      <td>WMPID4545|WMPID4545|WMPID3771|WMPID4545|WMPID4...</td>\n",
       "    </tr>\n",
       "    <tr>\n",
       "      <th>168141</th>\n",
       "      <td>x_999743237373888</td>\n",
       "      <td>WMPID1290|WMPID1290</td>\n",
       "    </tr>\n",
       "    <tr>\n",
       "      <th>168142</th>\n",
       "      <td>x_999777531419792</td>\n",
       "      <td>WMPID1305|WMPID1305</td>\n",
       "    </tr>\n",
       "    <tr>\n",
       "      <th>168143</th>\n",
       "      <td>x_999880071405435</td>\n",
       "      <td>WMPID5308|WMPID5308</td>\n",
       "    </tr>\n",
       "  </tbody>\n",
       "</table>\n",
       "</div>"
      ],
      "text/plain": [
       "                    ad_id                                  detected_entities\n",
       "168139  x_999705858093151  WMPID1289|WMPID1289|WMPID1594|WMPID1289|WMPID1...\n",
       "168140  x_999707127464521  WMPID4545|WMPID4545|WMPID3771|WMPID4545|WMPID4...\n",
       "168141  x_999743237373888                                WMPID1290|WMPID1290\n",
       "168142  x_999777531419792                                WMPID1305|WMPID1305\n",
       "168143  x_999880071405435                                WMPID5308|WMPID5308"
      ]
     },
     "execution_count": 36,
     "metadata": {},
     "output_type": "execute_result"
    }
   ],
   "source": [
    "el.tail()"
   ]
  },
  {
   "cell_type": "code",
   "execution_count": 37,
   "metadata": {},
   "outputs": [],
   "source": [
    "el['detected_entities'] = [i.replace('|', ',') for i in el['detected_entities']]"
   ]
  },
  {
   "cell_type": "code",
   "execution_count": 38,
   "metadata": {
    "id": "kkiACdd6UAbj"
   },
   "outputs": [],
   "source": [
    "d = d.merge(el, on='ad_id', how='left')"
   ]
  },
  {
   "cell_type": "code",
   "execution_count": 39,
   "metadata": {},
   "outputs": [
    {
     "name": "stdout",
     "output_type": "stream",
     "text": [
      "(377721, 47)\n",
      "377721\n"
     ]
    }
   ],
   "source": [
    "print(d.shape)\n",
    "print(len(d.ad_id.unique()))"
   ]
  },
  {
   "cell_type": "markdown",
   "metadata": {
    "id": "FNdXKNT6TkGt"
   },
   "source": [
    "### Add detected entities federal"
   ]
  },
  {
   "cell_type": "code",
   "execution_count": 40,
   "metadata": {
    "id": "u8jiMdEuHc7R"
   },
   "outputs": [],
   "source": [
    "cand = pd.read_csv('../../../datasets/candidates/wmpcand_120223_wmpid.csv')"
   ]
  },
  {
   "cell_type": "code",
   "execution_count": 41,
   "metadata": {},
   "outputs": [
    {
     "data": {
      "text/plain": [
       "(4295, 28)"
      ]
     },
     "execution_count": 41,
     "metadata": {},
     "output_type": "execute_result"
    }
   ],
   "source": [
    "cand.shape"
   ]
  },
  {
   "cell_type": "code",
   "execution_count": 42,
   "metadata": {},
   "outputs": [
    {
     "data": {
      "text/html": [
       "<div>\n",
       "<style scoped>\n",
       "    .dataframe tbody tr th:only-of-type {\n",
       "        vertical-align: middle;\n",
       "    }\n",
       "\n",
       "    .dataframe tbody tr th {\n",
       "        vertical-align: top;\n",
       "    }\n",
       "\n",
       "    .dataframe thead th {\n",
       "        text-align: right;\n",
       "    }\n",
       "</style>\n",
       "<table border=\"1\" class=\"dataframe\">\n",
       "  <thead>\n",
       "    <tr style=\"text-align: right;\">\n",
       "      <th></th>\n",
       "      <th>cand_id</th>\n",
       "      <th>wmpid</th>\n",
       "      <th>genelect_cd</th>\n",
       "      <th>CurrCand</th>\n",
       "      <th>cand_name</th>\n",
       "      <th>cand_office</th>\n",
       "      <th>cand_office_st</th>\n",
       "      <th>cand_office_dist</th>\n",
       "      <th>cand_party_affiliation</th>\n",
       "      <th>cand_incumbent_challenger_open_s</th>\n",
       "      <th>...</th>\n",
       "      <th>latino_crp</th>\n",
       "      <th>race_wmp</th>\n",
       "      <th>race_crp1</th>\n",
       "      <th>race_crp2</th>\n",
       "      <th>race_crpmena</th>\n",
       "      <th>hse_cmpt_gen</th>\n",
       "      <th>full_name</th>\n",
       "      <th>first_name</th>\n",
       "      <th>last_name</th>\n",
       "      <th>st_dist</th>\n",
       "    </tr>\n",
       "  </thead>\n",
       "  <tbody>\n",
       "    <tr>\n",
       "      <th>0</th>\n",
       "      <td>H0AL01055</td>\n",
       "      <td>WMPID21</td>\n",
       "      <td>1</td>\n",
       "      <td>Y</td>\n",
       "      <td>CARL, JERRY LEE, JR</td>\n",
       "      <td>H</td>\n",
       "      <td>AL</td>\n",
       "      <td>1.0</td>\n",
       "      <td>REP</td>\n",
       "      <td>INCUMBENT</td>\n",
       "      <td>...</td>\n",
       "      <td>N</td>\n",
       "      <td>White</td>\n",
       "      <td>W</td>\n",
       "      <td>NaN</td>\n",
       "      <td>N</td>\n",
       "      <td>0</td>\n",
       "      <td>Jerry Carl</td>\n",
       "      <td>Jerry</td>\n",
       "      <td>Carl</td>\n",
       "      <td>AL1</td>\n",
       "    </tr>\n",
       "    <tr>\n",
       "      <th>1</th>\n",
       "      <td>H0AL02202</td>\n",
       "      <td>WMPID24</td>\n",
       "      <td>1</td>\n",
       "      <td>Y</td>\n",
       "      <td>HARVEY-HALL, PHYLLIS</td>\n",
       "      <td>H</td>\n",
       "      <td>AL</td>\n",
       "      <td>2.0</td>\n",
       "      <td>DEM</td>\n",
       "      <td>CHALLENGER</td>\n",
       "      <td>...</td>\n",
       "      <td>n</td>\n",
       "      <td>Black</td>\n",
       "      <td>B</td>\n",
       "      <td>NaN</td>\n",
       "      <td>n</td>\n",
       "      <td>0</td>\n",
       "      <td>Phyllis Harvey-Hall</td>\n",
       "      <td>Phyllis</td>\n",
       "      <td>Harvey-Hall</td>\n",
       "      <td>AL2</td>\n",
       "    </tr>\n",
       "  </tbody>\n",
       "</table>\n",
       "<p>2 rows × 28 columns</p>\n",
       "</div>"
      ],
      "text/plain": [
       "     cand_id    wmpid  genelect_cd CurrCand             cand_name cand_office  \\\n",
       "0  H0AL01055  WMPID21            1        Y   CARL, JERRY LEE, JR           H   \n",
       "1  H0AL02202  WMPID24            1        Y  HARVEY-HALL, PHYLLIS           H   \n",
       "\n",
       "  cand_office_st  cand_office_dist cand_party_affiliation  \\\n",
       "0             AL               1.0                    REP   \n",
       "1             AL               2.0                    DEM   \n",
       "\n",
       "  cand_incumbent_challenger_open_s  ... latino_crp race_wmp race_crp1  \\\n",
       "0                        INCUMBENT  ...          N    White         W   \n",
       "1                       CHALLENGER  ...          n    Black         B   \n",
       "\n",
       "  race_crp2  race_crpmena hse_cmpt_gen            full_name  first_name  \\\n",
       "0       NaN             N            0           Jerry Carl       Jerry   \n",
       "1       NaN             n            0  Phyllis Harvey-Hall     Phyllis   \n",
       "\n",
       "     last_name st_dist  \n",
       "0         Carl     AL1  \n",
       "1  Harvey-Hall     AL2  \n",
       "\n",
       "[2 rows x 28 columns]"
      ]
     },
     "execution_count": 42,
     "metadata": {},
     "output_type": "execute_result"
    }
   ],
   "source": [
    "cand.head(2)"
   ]
  },
  {
   "cell_type": "code",
   "execution_count": 43,
   "metadata": {},
   "outputs": [
    {
     "data": {
      "text/plain": [
       "cand_office\n",
       "H    3612\n",
       "S     683\n",
       "Name: count, dtype: int64"
      ]
     },
     "execution_count": 43,
     "metadata": {},
     "output_type": "execute_result"
    }
   ],
   "source": [
    "cand['cand_office'].value_counts(dropna=False)"
   ]
  },
  {
   "cell_type": "code",
   "execution_count": 44,
   "metadata": {
    "id": "MuOscJ0AHcsD"
   },
   "outputs": [],
   "source": [
    "candlist = cand['wmpid'].tolist()"
   ]
  },
  {
   "cell_type": "code",
   "execution_count": 45,
   "metadata": {},
   "outputs": [
    {
     "data": {
      "text/plain": [
       "True"
      ]
     },
     "execution_count": 45,
     "metadata": {},
     "output_type": "execute_result"
    }
   ],
   "source": [
    "'WMPID4536' in candlist"
   ]
  },
  {
   "cell_type": "code",
   "execution_count": 46,
   "metadata": {},
   "outputs": [],
   "source": [
    "d['detected_entities_federal'] = d['detected_entities'].apply(lambda x: ','.join(list(set([item.strip() for item in str(x).split(',') if item.strip() in candlist]))))"
   ]
  },
  {
   "cell_type": "code",
   "execution_count": 47,
   "metadata": {},
   "outputs": [],
   "source": [
    "d['detected_entities_federal']= d['detected_entities_federal'].replace('', np.NaN)"
   ]
  },
  {
   "cell_type": "markdown",
   "metadata": {},
   "source": [
    "### Add ABSA (Sentiment)"
   ]
  },
  {
   "cell_type": "code",
   "execution_count": 57,
   "metadata": {
    "scrolled": true
   },
   "outputs": [],
   "source": [
    "sent = pd.read_csv(\"../../../ABSA/data/fb2022_ABSA_pred.csv.gz\")"
   ]
  },
  {
   "cell_type": "code",
   "execution_count": 58,
   "metadata": {},
   "outputs": [
    {
     "data": {
      "text/html": [
       "<div>\n",
       "<style scoped>\n",
       "    .dataframe tbody tr th:only-of-type {\n",
       "        vertical-align: middle;\n",
       "    }\n",
       "\n",
       "    .dataframe tbody tr th {\n",
       "        vertical-align: top;\n",
       "    }\n",
       "\n",
       "    .dataframe thead th {\n",
       "        text-align: right;\n",
       "    }\n",
       "</style>\n",
       "<table border=\"1\" class=\"dataframe\">\n",
       "  <thead>\n",
       "    <tr style=\"text-align: right;\">\n",
       "      <th></th>\n",
       "      <th>text_detected_entities</th>\n",
       "      <th>text_start</th>\n",
       "      <th>text_end</th>\n",
       "      <th>ad_id</th>\n",
       "      <th>field</th>\n",
       "      <th>predicted_sentiment</th>\n",
       "    </tr>\n",
       "  </thead>\n",
       "  <tbody>\n",
       "    <tr>\n",
       "      <th>0</th>\n",
       "      <td>WMPID3138</td>\n",
       "      <td>33</td>\n",
       "      <td>39</td>\n",
       "      <td>x_2245155718992968</td>\n",
       "      <td>disclaimer</td>\n",
       "      <td>1</td>\n",
       "    </tr>\n",
       "    <tr>\n",
       "      <th>1</th>\n",
       "      <td>WMPID3138</td>\n",
       "      <td>33</td>\n",
       "      <td>39</td>\n",
       "      <td>x_429314142607623</td>\n",
       "      <td>disclaimer</td>\n",
       "      <td>1</td>\n",
       "    </tr>\n",
       "  </tbody>\n",
       "</table>\n",
       "</div>"
      ],
      "text/plain": [
       "  text_detected_entities  text_start  text_end               ad_id  \\\n",
       "0              WMPID3138          33        39  x_2245155718992968   \n",
       "1              WMPID3138          33        39   x_429314142607623   \n",
       "\n",
       "        field  predicted_sentiment  \n",
       "0  disclaimer                    1  \n",
       "1  disclaimer                    1  "
      ]
     },
     "execution_count": 58,
     "metadata": {},
     "output_type": "execute_result"
    }
   ],
   "source": [
    "sent.head(2)"
   ]
  },
  {
   "cell_type": "code",
   "execution_count": 62,
   "metadata": {},
   "outputs": [
    {
     "data": {
      "text/plain": [
       "(755444, 6)"
      ]
     },
     "execution_count": 62,
     "metadata": {},
     "output_type": "execute_result"
    }
   ],
   "source": [
    "sent.shape"
   ]
  },
  {
   "cell_type": "code",
   "execution_count": 69,
   "metadata": {},
   "outputs": [],
   "source": [
    "grouped = sent.groupby(['ad_id', 'text_detected_entities'])\n",
    "average_scores = grouped['predicted_sentiment'].sum().reset_index()\n",
    "repetition_count = grouped.size().reset_index(name='number_of_mentions')\n",
    "sent2 = pd.merge(average_scores, repetition_count, on=['ad_id', 'text_detected_entities'])\n"
   ]
  },
  {
   "cell_type": "code",
   "execution_count": 70,
   "metadata": {},
   "outputs": [],
   "source": [
    "sent2.rename(columns={'text_detected_entities': 'ABSA_detected_entities', \n",
    "                      'predicted_sentiment': 'ABSA_predicted_sentiment_agg',\n",
    "                      'number_of_mentions': 'ABSA_number_of_mentions'}, inplace=True)\n"
   ]
  },
  {
   "cell_type": "code",
   "execution_count": 71,
   "metadata": {},
   "outputs": [
    {
     "data": {
      "text/html": [
       "<div>\n",
       "<style scoped>\n",
       "    .dataframe tbody tr th:only-of-type {\n",
       "        vertical-align: middle;\n",
       "    }\n",
       "\n",
       "    .dataframe tbody tr th {\n",
       "        vertical-align: top;\n",
       "    }\n",
       "\n",
       "    .dataframe thead th {\n",
       "        text-align: right;\n",
       "    }\n",
       "</style>\n",
       "<table border=\"1\" class=\"dataframe\">\n",
       "  <thead>\n",
       "    <tr style=\"text-align: right;\">\n",
       "      <th></th>\n",
       "      <th>ad_id</th>\n",
       "      <th>ABSA_detected_entities</th>\n",
       "      <th>ABSA_predicted_sentiment_agg</th>\n",
       "      <th>ABSA_number_of_mentions</th>\n",
       "    </tr>\n",
       "  </thead>\n",
       "  <tbody>\n",
       "    <tr>\n",
       "      <th>0</th>\n",
       "      <td>x_1000032110674951</td>\n",
       "      <td>WMPID2029</td>\n",
       "      <td>-1</td>\n",
       "      <td>1</td>\n",
       "    </tr>\n",
       "    <tr>\n",
       "      <th>1</th>\n",
       "      <td>x_1000072604727964</td>\n",
       "      <td>WMPID1289</td>\n",
       "      <td>-1</td>\n",
       "      <td>1</td>\n",
       "    </tr>\n",
       "    <tr>\n",
       "      <th>2</th>\n",
       "      <td>x_1000263194705315</td>\n",
       "      <td>WMPID1504</td>\n",
       "      <td>1</td>\n",
       "      <td>1</td>\n",
       "    </tr>\n",
       "    <tr>\n",
       "      <th>3</th>\n",
       "      <td>x_1000277107301672</td>\n",
       "      <td>WMPID5277</td>\n",
       "      <td>-19</td>\n",
       "      <td>23</td>\n",
       "    </tr>\n",
       "    <tr>\n",
       "      <th>4</th>\n",
       "      <td>x_1000277107301672</td>\n",
       "      <td>WMPID5326</td>\n",
       "      <td>-1</td>\n",
       "      <td>1</td>\n",
       "    </tr>\n",
       "    <tr>\n",
       "      <th>...</th>\n",
       "      <td>...</td>\n",
       "      <td>...</td>\n",
       "      <td>...</td>\n",
       "      <td>...</td>\n",
       "    </tr>\n",
       "    <tr>\n",
       "      <th>272598</th>\n",
       "      <td>x_999707127464521</td>\n",
       "      <td>WMPID3771</td>\n",
       "      <td>-1</td>\n",
       "      <td>1</td>\n",
       "    </tr>\n",
       "    <tr>\n",
       "      <th>272599</th>\n",
       "      <td>x_999707127464521</td>\n",
       "      <td>WMPID4545</td>\n",
       "      <td>-1</td>\n",
       "      <td>5</td>\n",
       "    </tr>\n",
       "    <tr>\n",
       "      <th>272600</th>\n",
       "      <td>x_999743237373888</td>\n",
       "      <td>WMPID1290</td>\n",
       "      <td>-2</td>\n",
       "      <td>2</td>\n",
       "    </tr>\n",
       "    <tr>\n",
       "      <th>272601</th>\n",
       "      <td>x_999777531419792</td>\n",
       "      <td>WMPID1305</td>\n",
       "      <td>2</td>\n",
       "      <td>2</td>\n",
       "    </tr>\n",
       "    <tr>\n",
       "      <th>272602</th>\n",
       "      <td>x_999880071405435</td>\n",
       "      <td>WMPID5308</td>\n",
       "      <td>2</td>\n",
       "      <td>2</td>\n",
       "    </tr>\n",
       "  </tbody>\n",
       "</table>\n",
       "<p>272603 rows × 4 columns</p>\n",
       "</div>"
      ],
      "text/plain": [
       "                     ad_id ABSA_detected_entities  \\\n",
       "0       x_1000032110674951              WMPID2029   \n",
       "1       x_1000072604727964              WMPID1289   \n",
       "2       x_1000263194705315              WMPID1504   \n",
       "3       x_1000277107301672              WMPID5277   \n",
       "4       x_1000277107301672              WMPID5326   \n",
       "...                    ...                    ...   \n",
       "272598   x_999707127464521              WMPID3771   \n",
       "272599   x_999707127464521              WMPID4545   \n",
       "272600   x_999743237373888              WMPID1290   \n",
       "272601   x_999777531419792              WMPID1305   \n",
       "272602   x_999880071405435              WMPID5308   \n",
       "\n",
       "        ABSA_predicted_sentiment_agg  ABSA_number_of_mentions  \n",
       "0                                 -1                        1  \n",
       "1                                 -1                        1  \n",
       "2                                  1                        1  \n",
       "3                                -19                       23  \n",
       "4                                 -1                        1  \n",
       "...                              ...                      ...  \n",
       "272598                            -1                        1  \n",
       "272599                            -1                        5  \n",
       "272600                            -2                        2  \n",
       "272601                             2                        2  \n",
       "272602                             2                        2  \n",
       "\n",
       "[272603 rows x 4 columns]"
      ]
     },
     "execution_count": 71,
     "metadata": {},
     "output_type": "execute_result"
    }
   ],
   "source": [
    "sent2"
   ]
  },
  {
   "cell_type": "code",
   "execution_count": 73,
   "metadata": {},
   "outputs": [],
   "source": [
    "agg_sent = sent2.groupby('ad_id').agg({'ABSA_number_of_mentions': lambda x: ','.join(map(str, x)),\n",
    "                                       'ABSA_detected_entities': lambda x: ','.join(x),\n",
    "                                       'ABSA_predicted_sentiment_agg': lambda x: ','.join(map(str, x))}).reset_index()"
   ]
  },
  {
   "cell_type": "code",
   "execution_count": 75,
   "metadata": {},
   "outputs": [],
   "source": [
    "d = d.merge(agg_sent, on='ad_id', how='left')"
   ]
  },
  {
   "cell_type": "markdown",
   "metadata": {},
   "source": [
    "### Add Issue Classifier"
   ]
  },
  {
   "cell_type": "code",
   "execution_count": 77,
   "metadata": {},
   "outputs": [],
   "source": [
    "issue = pd.read_csv(\"../../../issue_classifier/fb_2022/data/fb2022_output_processed.csv\")"
   ]
  },
  {
   "cell_type": "code",
   "execution_count": 78,
   "metadata": {},
   "outputs": [
    {
     "data": {
      "text/html": [
       "<div>\n",
       "<style scoped>\n",
       "    .dataframe tbody tr th:only-of-type {\n",
       "        vertical-align: middle;\n",
       "    }\n",
       "\n",
       "    .dataframe tbody tr th {\n",
       "        vertical-align: top;\n",
       "    }\n",
       "\n",
       "    .dataframe thead th {\n",
       "        text-align: right;\n",
       "    }\n",
       "</style>\n",
       "<table border=\"1\" class=\"dataframe\">\n",
       "  <thead>\n",
       "    <tr style=\"text-align: right;\">\n",
       "      <th></th>\n",
       "      <th>ad_id</th>\n",
       "      <th>issue_field</th>\n",
       "      <th>issue_class</th>\n",
       "    </tr>\n",
       "  </thead>\n",
       "  <tbody>\n",
       "    <tr>\n",
       "      <th>0</th>\n",
       "      <td>x_1000009254731384</td>\n",
       "      <td>google_asr_text|aws_ocr_text_vid|ad_creative_body</td>\n",
       "      <td>ISSUE10,ISSUE11,ISSUE56|ISSUE10,ISSUE56|ISSUE10</td>\n",
       "    </tr>\n",
       "    <tr>\n",
       "      <th>1</th>\n",
       "      <td>x_1000018871393117</td>\n",
       "      <td>ad_creative_link_description|page_name|ad_crea...</td>\n",
       "      <td>ISSUE12|ISSUE55|ISSUE55,ISSUE102|ISSUE16</td>\n",
       "    </tr>\n",
       "  </tbody>\n",
       "</table>\n",
       "</div>"
      ],
      "text/plain": [
       "                ad_id                                        issue_field  \\\n",
       "0  x_1000009254731384  google_asr_text|aws_ocr_text_vid|ad_creative_body   \n",
       "1  x_1000018871393117  ad_creative_link_description|page_name|ad_crea...   \n",
       "\n",
       "                                       issue_class  \n",
       "0  ISSUE10,ISSUE11,ISSUE56|ISSUE10,ISSUE56|ISSUE10  \n",
       "1         ISSUE12|ISSUE55|ISSUE55,ISSUE102|ISSUE16  "
      ]
     },
     "execution_count": 78,
     "metadata": {},
     "output_type": "execute_result"
    }
   ],
   "source": [
    "issue.head(2)"
   ]
  },
  {
   "cell_type": "code",
   "execution_count": 79,
   "metadata": {},
   "outputs": [],
   "source": [
    "d = d.merge(issue, on='ad_id', how='left')"
   ]
  },
  {
   "cell_type": "markdown",
   "metadata": {},
   "source": [
    "### Add AWS face federal"
   ]
  },
  {
   "cell_type": "code",
   "execution_count": 80,
   "metadata": {},
   "outputs": [],
   "source": [
    "d['aws_face'] = d.apply(lambda row: ','.join(set(str(row['aws_face_img']).split(',')) | set(str(row['aws_face_vid']).split(','))) if (not pd.isnull(row['aws_face_img']) and not pd.isnull(row['aws_face_vid'])) else ','.join([item for item in str(row['aws_face_img']).split(',') + str(row['aws_face_vid']).split(',') if item != 'nan']) if pd.isnull(row['aws_face_img']) or pd.isnull(row['aws_face_vid']) else '', axis=1)"
   ]
  },
  {
   "cell_type": "code",
   "execution_count": 81,
   "metadata": {
    "scrolled": true
   },
   "outputs": [],
   "source": [
    "d['aws_face_federal'] = d['aws_face'].apply(lambda x: ','.join(list(set([item.strip() for item in str(x).split(',') if item.strip() in candlist]))))"
   ]
  },
  {
   "cell_type": "code",
   "execution_count": 82,
   "metadata": {},
   "outputs": [],
   "source": [
    "d['aws_face_federal']= d['aws_face_federal'].replace('', np.NaN)"
   ]
  },
  {
   "cell_type": "markdown",
   "metadata": {},
   "source": [
    "### Add combined entities federal"
   ]
  },
  {
   "cell_type": "code",
   "execution_count": 83,
   "metadata": {},
   "outputs": [],
   "source": [
    "d['combined_entities_federal'] = (d['detected_entities_federal'].fillna('') + ',' + d['aws_face_federal'].fillna('')).str.strip(',')"
   ]
  },
  {
   "cell_type": "code",
   "execution_count": 84,
   "metadata": {},
   "outputs": [],
   "source": [
    "d['combined_entities_federal']= d['combined_entities_federal'].replace('', np.NaN)"
   ]
  },
  {
   "cell_type": "code",
   "execution_count": 85,
   "metadata": {},
   "outputs": [],
   "source": [
    "d['combined_entities_federal'] = d['combined_entities_federal'].apply(lambda x: list(set(x.split(','))) if isinstance(x, str) else np.nan)"
   ]
  },
  {
   "cell_type": "code",
   "execution_count": 86,
   "metadata": {},
   "outputs": [],
   "source": [
    "d['combined_entities_federal'] = d['combined_entities_federal'].apply(lambda x: ','.join(x) if isinstance(x, list) else np.nan)"
   ]
  },
  {
   "cell_type": "code",
   "execution_count": 87,
   "metadata": {},
   "outputs": [],
   "source": [
    "#d.loc[(d['detected_entities_federal'].notna()) &(d['aws_face_federal'].notna())]"
   ]
  },
  {
   "cell_type": "markdown",
   "metadata": {
    "id": "w9uOFFx9Ux8_"
   },
   "source": [
    "### Add federal verified \n",
    "\n",
    "- text mention or image reference of federal candidates"
   ]
  },
  {
   "cell_type": "code",
   "execution_count": 88,
   "metadata": {
    "id": "SMH3nh6PUxg4"
   },
   "outputs": [],
   "source": [
    "d['federal_verified'] = d[['aws_face_federal','detected_entities_federal']].isna().sum(axis=1).apply(lambda x: 'No' if x==2 else 'Yes')"
   ]
  },
  {
   "cell_type": "code",
   "execution_count": 89,
   "metadata": {},
   "outputs": [
    {
     "name": "stdout",
     "output_type": "stream",
     "text": [
      "(377721, 64)\n",
      "377721\n"
     ]
    }
   ],
   "source": [
    "print(d.shape)\n",
    "print(len(d.ad_id.unique()))"
   ]
  },
  {
   "cell_type": "code",
   "execution_count": 90,
   "metadata": {},
   "outputs": [
    {
     "data": {
      "text/plain": [
       "federal_verified\n",
       "No     261560\n",
       "Yes    116161\n",
       "Name: count, dtype: int64"
      ]
     },
     "execution_count": 90,
     "metadata": {},
     "output_type": "execute_result"
    }
   ],
   "source": [
    "d.federal_verified.value_counts(dropna=False)"
   ]
  },
  {
   "cell_type": "code",
   "execution_count": 91,
   "metadata": {},
   "outputs": [
    {
     "data": {
      "text/plain": [
       "Index(['ad_id', 'page_id', 'ad_creation_time', 'ad_delivery_start_time',\n",
       "       'ad_delivery_stop_time', 'spend', 'impressions', 'region_distribution',\n",
       "       'demographic_distribution', 'publisher_platforms', 'potential_reach',\n",
       "       'pd_id', 'wmp_media_type', 'aws_face_vid', 'aws_face_img', 'sub_bucket',\n",
       "       'race_of_focus', 'race_of_focus_region_pct', 'ad_tone_constructed',\n",
       "       'ad_tone_mentionbased', 'goal_DONATE_prediction',\n",
       "       'goal_DONATE_predicted_prob', 'goal_CONTACT_prediction',\n",
       "       'goal_CONTACT_predicted_prob', 'goal_PURCHASE_prediction',\n",
       "       'goal_PURCHASE_predicted_prob', 'goal_GOTV_prediction',\n",
       "       'goal_GOTV_predicted_prob', 'goal_EVENT_prediction',\n",
       "       'goal_EVENT_predicted_prob', 'goal_POLL_prediction',\n",
       "       'goal_POLL_predicted_prob', 'goal_GATHERINFO_prediction',\n",
       "       'goal_GATHERINFO_predicted_prob', 'goal_LEARNMORE_prediction',\n",
       "       'goal_LEARNMORE_predicted_prob', 'goal_PRIMARY_PERSUADE_prediction',\n",
       "       'goal_PRIMARY_PERSUADE_predicted_prob', 'goal_highest_prob',\n",
       "       'party_all_clf_pdid', 'prob_dem', 'prob_other', 'prob_rep',\n",
       "       'party_all_clf_adid', 'party_all_clf_adid_agg', 'party_all',\n",
       "       'detected_entities', 'detected_entities_federal',\n",
       "       'attacklike1_bert_pred', 'attacklike1_bert_prob',\n",
       "       'attacklike2_bert_pred', 'attacklike2_bert_prob',\n",
       "       'attacklike3_bert_pred', 'attacklike_senti_pred',\n",
       "       'attacklike_senti_prob', 'ABSA_number_of_mentions',\n",
       "       'ABSA_detected_entities', 'ABSA_predicted_sentiment_agg', 'issue_field',\n",
       "       'issue_class', 'aws_face', 'aws_face_federal',\n",
       "       'combined_entities_federal', 'federal_verified'],\n",
       "      dtype='object')"
      ]
     },
     "execution_count": 91,
     "metadata": {},
     "output_type": "execute_result"
    }
   ],
   "source": [
    "d.columns"
   ]
  },
  {
   "cell_type": "code",
   "execution_count": 92,
   "metadata": {},
   "outputs": [
    {
     "data": {
      "text/html": [
       "<div>\n",
       "<style scoped>\n",
       "    .dataframe tbody tr th:only-of-type {\n",
       "        vertical-align: middle;\n",
       "    }\n",
       "\n",
       "    .dataframe tbody tr th {\n",
       "        vertical-align: top;\n",
       "    }\n",
       "\n",
       "    .dataframe thead th {\n",
       "        text-align: right;\n",
       "    }\n",
       "</style>\n",
       "<table border=\"1\" class=\"dataframe\">\n",
       "  <thead>\n",
       "    <tr style=\"text-align: right;\">\n",
       "      <th></th>\n",
       "      <th>ad_id</th>\n",
       "      <th>page_id</th>\n",
       "      <th>ad_creation_time</th>\n",
       "      <th>ad_delivery_start_time</th>\n",
       "      <th>ad_delivery_stop_time</th>\n",
       "      <th>spend</th>\n",
       "      <th>impressions</th>\n",
       "      <th>region_distribution</th>\n",
       "      <th>demographic_distribution</th>\n",
       "      <th>publisher_platforms</th>\n",
       "      <th>...</th>\n",
       "      <th>attacklike_senti_prob</th>\n",
       "      <th>ABSA_number_of_mentions</th>\n",
       "      <th>ABSA_detected_entities</th>\n",
       "      <th>ABSA_predicted_sentiment_agg</th>\n",
       "      <th>issue_field</th>\n",
       "      <th>issue_class</th>\n",
       "      <th>aws_face</th>\n",
       "      <th>aws_face_federal</th>\n",
       "      <th>combined_entities_federal</th>\n",
       "      <th>federal_verified</th>\n",
       "    </tr>\n",
       "  </thead>\n",
       "  <tbody>\n",
       "    <tr>\n",
       "      <th>0</th>\n",
       "      <td>x_1100321017564452</td>\n",
       "      <td>260713150211</td>\n",
       "      <td>2022-08-12</td>\n",
       "      <td>2022-08-13</td>\n",
       "      <td>2023-01-06</td>\n",
       "      <td>{\"lower_bound\":\"100\",\"upper_bound\":\"199\"}</td>\n",
       "      <td>{\"lower_bound\":\"2000\",\"upper_bound\":\"2999\"}</td>\n",
       "      <td>[{\"percentage\":\"0.005223\",\"region\":\"Mississipp...</td>\n",
       "      <td>[{\"percentage\":\"0.005834\",\"age\":\"18-24\",\"gende...</td>\n",
       "      <td>[\"facebook\",\"instagram\"]</td>\n",
       "      <td>...</td>\n",
       "      <td>0.789673</td>\n",
       "      <td>NaN</td>\n",
       "      <td>NaN</td>\n",
       "      <td>NaN</td>\n",
       "      <td>page_name|ad_creative_link_title|disclaimer|ad...</td>\n",
       "      <td>ISSUE95|ISSUE95|ISSUE95|ISSUE80</td>\n",
       "      <td></td>\n",
       "      <td>NaN</td>\n",
       "      <td>NaN</td>\n",
       "      <td>No</td>\n",
       "    </tr>\n",
       "    <tr>\n",
       "      <th>1</th>\n",
       "      <td>x_624349849305317</td>\n",
       "      <td>154561574598964</td>\n",
       "      <td>2022-08-29</td>\n",
       "      <td>2022-08-30</td>\n",
       "      <td>2023-01-08</td>\n",
       "      <td>{\"lower_bound\":\"1500\",\"upper_bound\":\"1999\"}</td>\n",
       "      <td>{\"lower_bound\":\"175000\",\"upper_bound\":\"199999\"}</td>\n",
       "      <td>[{\"percentage\":\"1.0E-5\",\"region\":\"Comunidad Va...</td>\n",
       "      <td>[{\"percentage\":\"0.000698\",\"age\":\"25-34\",\"gende...</td>\n",
       "      <td>facebook</td>\n",
       "      <td>...</td>\n",
       "      <td>0.818900</td>\n",
       "      <td>NaN</td>\n",
       "      <td>NaN</td>\n",
       "      <td>NaN</td>\n",
       "      <td>ad_creative_body|disclaimer|page_name|ad_creat...</td>\n",
       "      <td>ISSUE12|ISSUE12,ISSUE80|ISSUE12,ISSUE80|ISSUE1...</td>\n",
       "      <td>WMPID5215</td>\n",
       "      <td>NaN</td>\n",
       "      <td>NaN</td>\n",
       "      <td>No</td>\n",
       "    </tr>\n",
       "    <tr>\n",
       "      <th>2</th>\n",
       "      <td>x_781950743004715</td>\n",
       "      <td>154561574598964</td>\n",
       "      <td>2022-08-29</td>\n",
       "      <td>2022-08-30</td>\n",
       "      <td>2023-01-07</td>\n",
       "      <td>{\"lower_bound\":\"100\",\"upper_bound\":\"199\"}</td>\n",
       "      <td>{\"lower_bound\":\"10000\",\"upper_bound\":\"14999\"}</td>\n",
       "      <td>[{\"percentage\":\"0.000127\",\"region\":\"Washington...</td>\n",
       "      <td>[{\"percentage\":\"0.0014\",\"age\":\"45-54\",\"gender\"...</td>\n",
       "      <td>facebook</td>\n",
       "      <td>...</td>\n",
       "      <td>0.935922</td>\n",
       "      <td>NaN</td>\n",
       "      <td>NaN</td>\n",
       "      <td>NaN</td>\n",
       "      <td>disclaimer|ad_creative_body|page_name|ad_creat...</td>\n",
       "      <td>ISSUE12,ISSUE80|ISSUE10,ISSUE12|ISSUE12,ISSUE8...</td>\n",
       "      <td>WMPID5215</td>\n",
       "      <td>NaN</td>\n",
       "      <td>NaN</td>\n",
       "      <td>No</td>\n",
       "    </tr>\n",
       "    <tr>\n",
       "      <th>3</th>\n",
       "      <td>x_469164518413893</td>\n",
       "      <td>154561574598964</td>\n",
       "      <td>2022-08-21</td>\n",
       "      <td>2022-08-30</td>\n",
       "      <td>2023-01-08</td>\n",
       "      <td>{\"lower_bound\":\"1500\",\"upper_bound\":\"1999\"}</td>\n",
       "      <td>{\"lower_bound\":\"200000\",\"upper_bound\":\"249999\"}</td>\n",
       "      <td>[{\"percentage\":\"8.0E-6\",\"region\":\"Banteay Mean...</td>\n",
       "      <td>[{\"percentage\":\"0.002265\",\"age\":\"65+\",\"gender\"...</td>\n",
       "      <td>facebook</td>\n",
       "      <td>...</td>\n",
       "      <td>0.929551</td>\n",
       "      <td>NaN</td>\n",
       "      <td>NaN</td>\n",
       "      <td>NaN</td>\n",
       "      <td>disclaimer|ad_creative_body|page_name|ad_creat...</td>\n",
       "      <td>ISSUE12,ISSUE80|ISSUE10,ISSUE12|ISSUE12,ISSUE8...</td>\n",
       "      <td>WMPID5215</td>\n",
       "      <td>NaN</td>\n",
       "      <td>NaN</td>\n",
       "      <td>No</td>\n",
       "    </tr>\n",
       "    <tr>\n",
       "      <th>4</th>\n",
       "      <td>x_708123550372840</td>\n",
       "      <td>103565195134756</td>\n",
       "      <td>2022-02-07</td>\n",
       "      <td>2022-02-07</td>\n",
       "      <td>2023-01-06</td>\n",
       "      <td>{\"lower_bound\":\"8000\",\"upper_bound\":\"8999\"}</td>\n",
       "      <td>{\"lower_bound\":\"1000000\"}</td>\n",
       "      <td>[{\"percentage\":\"0\",\"region\":\"New Brunswick\"},{...</td>\n",
       "      <td>[{\"percentage\":\"0.000131\",\"age\":\"18-24\",\"gende...</td>\n",
       "      <td>facebook</td>\n",
       "      <td>...</td>\n",
       "      <td>0.973152</td>\n",
       "      <td>NaN</td>\n",
       "      <td>NaN</td>\n",
       "      <td>NaN</td>\n",
       "      <td>aws_ocr_text_vid</td>\n",
       "      <td>ISSUE65,ISSUE95</td>\n",
       "      <td></td>\n",
       "      <td>NaN</td>\n",
       "      <td>NaN</td>\n",
       "      <td>No</td>\n",
       "    </tr>\n",
       "  </tbody>\n",
       "</table>\n",
       "<p>5 rows × 64 columns</p>\n",
       "</div>"
      ],
      "text/plain": [
       "                ad_id          page_id ad_creation_time  \\\n",
       "0  x_1100321017564452     260713150211       2022-08-12   \n",
       "1   x_624349849305317  154561574598964       2022-08-29   \n",
       "2   x_781950743004715  154561574598964       2022-08-29   \n",
       "3   x_469164518413893  154561574598964       2022-08-21   \n",
       "4   x_708123550372840  103565195134756       2022-02-07   \n",
       "\n",
       "  ad_delivery_start_time ad_delivery_stop_time  \\\n",
       "0             2022-08-13            2023-01-06   \n",
       "1             2022-08-30            2023-01-08   \n",
       "2             2022-08-30            2023-01-07   \n",
       "3             2022-08-30            2023-01-08   \n",
       "4             2022-02-07            2023-01-06   \n",
       "\n",
       "                                         spend  \\\n",
       "0    {\"lower_bound\":\"100\",\"upper_bound\":\"199\"}   \n",
       "1  {\"lower_bound\":\"1500\",\"upper_bound\":\"1999\"}   \n",
       "2    {\"lower_bound\":\"100\",\"upper_bound\":\"199\"}   \n",
       "3  {\"lower_bound\":\"1500\",\"upper_bound\":\"1999\"}   \n",
       "4  {\"lower_bound\":\"8000\",\"upper_bound\":\"8999\"}   \n",
       "\n",
       "                                       impressions  \\\n",
       "0      {\"lower_bound\":\"2000\",\"upper_bound\":\"2999\"}   \n",
       "1  {\"lower_bound\":\"175000\",\"upper_bound\":\"199999\"}   \n",
       "2    {\"lower_bound\":\"10000\",\"upper_bound\":\"14999\"}   \n",
       "3  {\"lower_bound\":\"200000\",\"upper_bound\":\"249999\"}   \n",
       "4                        {\"lower_bound\":\"1000000\"}   \n",
       "\n",
       "                                 region_distribution  \\\n",
       "0  [{\"percentage\":\"0.005223\",\"region\":\"Mississipp...   \n",
       "1  [{\"percentage\":\"1.0E-5\",\"region\":\"Comunidad Va...   \n",
       "2  [{\"percentage\":\"0.000127\",\"region\":\"Washington...   \n",
       "3  [{\"percentage\":\"8.0E-6\",\"region\":\"Banteay Mean...   \n",
       "4  [{\"percentage\":\"0\",\"region\":\"New Brunswick\"},{...   \n",
       "\n",
       "                            demographic_distribution  \\\n",
       "0  [{\"percentage\":\"0.005834\",\"age\":\"18-24\",\"gende...   \n",
       "1  [{\"percentage\":\"0.000698\",\"age\":\"25-34\",\"gende...   \n",
       "2  [{\"percentage\":\"0.0014\",\"age\":\"45-54\",\"gender\"...   \n",
       "3  [{\"percentage\":\"0.002265\",\"age\":\"65+\",\"gender\"...   \n",
       "4  [{\"percentage\":\"0.000131\",\"age\":\"18-24\",\"gende...   \n",
       "\n",
       "        publisher_platforms  ... attacklike_senti_prob  \\\n",
       "0  [\"facebook\",\"instagram\"]  ...              0.789673   \n",
       "1                  facebook  ...              0.818900   \n",
       "2                  facebook  ...              0.935922   \n",
       "3                  facebook  ...              0.929551   \n",
       "4                  facebook  ...              0.973152   \n",
       "\n",
       "  ABSA_number_of_mentions ABSA_detected_entities ABSA_predicted_sentiment_agg  \\\n",
       "0                     NaN                    NaN                          NaN   \n",
       "1                     NaN                    NaN                          NaN   \n",
       "2                     NaN                    NaN                          NaN   \n",
       "3                     NaN                    NaN                          NaN   \n",
       "4                     NaN                    NaN                          NaN   \n",
       "\n",
       "                                         issue_field  \\\n",
       "0  page_name|ad_creative_link_title|disclaimer|ad...   \n",
       "1  ad_creative_body|disclaimer|page_name|ad_creat...   \n",
       "2  disclaimer|ad_creative_body|page_name|ad_creat...   \n",
       "3  disclaimer|ad_creative_body|page_name|ad_creat...   \n",
       "4                                   aws_ocr_text_vid   \n",
       "\n",
       "                                         issue_class   aws_face  \\\n",
       "0                    ISSUE95|ISSUE95|ISSUE95|ISSUE80              \n",
       "1  ISSUE12|ISSUE12,ISSUE80|ISSUE12,ISSUE80|ISSUE1...  WMPID5215   \n",
       "2  ISSUE12,ISSUE80|ISSUE10,ISSUE12|ISSUE12,ISSUE8...  WMPID5215   \n",
       "3  ISSUE12,ISSUE80|ISSUE10,ISSUE12|ISSUE12,ISSUE8...  WMPID5215   \n",
       "4                                    ISSUE65,ISSUE95              \n",
       "\n",
       "   aws_face_federal combined_entities_federal federal_verified  \n",
       "0               NaN                       NaN               No  \n",
       "1               NaN                       NaN               No  \n",
       "2               NaN                       NaN               No  \n",
       "3               NaN                       NaN               No  \n",
       "4               NaN                       NaN               No  \n",
       "\n",
       "[5 rows x 64 columns]"
      ]
     },
     "execution_count": 92,
     "metadata": {},
     "output_type": "execute_result"
    }
   ],
   "source": [
    "d.head()"
   ]
  },
  {
   "cell_type": "code",
   "execution_count": 93,
   "metadata": {
    "id": "kT8nhZgpx0-t"
   },
   "outputs": [],
   "source": [
    "d.to_csv(\"../../fb_2022_adid_var.csv.gz\", \n",
    "         index=False,\n",
    "         compression={'method': 'gzip', 'compresslevel': 1, 'mtime': 1})"
   ]
  }
 ],
 "metadata": {
  "colab": {
   "collapsed_sections": [],
   "name": "01_fb_2020_118m_text.ipynb",
   "provenance": []
  },
  "kernelspec": {
   "display_name": "Python 3 (ipykernel)",
   "language": "python",
   "name": "python3"
  },
  "language_info": {
   "codemirror_mode": {
    "name": "ipython",
    "version": 3
   },
   "file_extension": ".py",
   "mimetype": "text/x-python",
   "name": "python",
   "nbconvert_exporter": "python",
   "pygments_lexer": "ipython3",
   "version": "3.10.13"
  }
 },
 "nbformat": 4,
 "nbformat_minor": 1
}
