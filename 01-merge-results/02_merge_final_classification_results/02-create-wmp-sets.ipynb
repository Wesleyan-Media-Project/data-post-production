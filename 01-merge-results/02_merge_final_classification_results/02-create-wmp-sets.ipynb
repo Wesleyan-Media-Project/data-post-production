{
 "cells": [
  {
   "cell_type": "markdown",
   "id": "bdd8ec7b",
   "metadata": {},
   "source": [
    "This notebook provides a step-by-step guide on creating varying subsets for federal candidates from our universe of election ads. Please reference our paper (under review) on what each subset represents. \n",
    "\n",
    "These steps apply to both Meta and Google full-variable (\"var\") tables. Perform these steps after you created the \"var\" tables"
   ]
  },
  {
   "cell_type": "code",
   "execution_count": null,
   "id": "1dfc139a",
   "metadata": {},
   "outputs": [],
   "source": [
    "import os\n",
    "import numpy as np\n",
    "import pandas as pd"
   ]
  },
  {
   "cell_type": "code",
   "execution_count": null,
   "id": "f857a2f8",
   "metadata": {},
   "outputs": [],
   "source": [
    "'''\n",
    "Import the \"var table\"\n",
    "\n",
    "'''\n",
    "\n",
    "# Define your local import directory\n",
    "path = '.'\n",
    "\n",
    "# Our Meta filename\n",
    "var_filepath = f'{path}/fb_2022_adid_var.csv.gz'\n",
    "\n",
    "# Our Google filename\n",
    "var_filepath = f'{path}/g2022_adid_var.csv.gz'\n",
    "\n",
    "\n",
    "var = pd.read_csv(var_filepath)"
   ]
  },
  {
   "cell_type": "code",
   "execution_count": null,
   "id": "d62d4fac",
   "metadata": {},
   "outputs": [],
   "source": [
    "'''\n",
    "Import entity files from the \"datasets\" repository\n",
    "\n",
    "Under the folder \"wmp_entity_files\"\n",
    "'''\n",
    "\n",
    "# Meta entity file path\n",
    "ent_path = '../../../datasets/wmp_entity_files/Facebook/wmp_fb_2022_entities_v082324.csv'\n",
    "# Google entity file path\n",
    "ent_path = '../../../datasets/wmp_entity_files/Google/wmp_google_2022_entities_v112822.csv'\n",
    "\n",
    "\n",
    "ent = pd.read_csv(ent_path)"
   ]
  },
  {
   "cell_type": "code",
   "execution_count": null,
   "id": "ec65a259",
   "metadata": {},
   "outputs": [],
   "source": [
    "'''\n",
    "Create federal candidate and federal candidate party variables\n",
    "'''\n",
    "ent['federal_cd'] = np.where(((ent.wmp_spontype==\"campaign\") | (ent.wmp_spontype==\"leadership PAC\")) & ((ent.wmp_office == 'us senate') | (ent.wmp_office == 'us house')), 1, 0)\n",
    "\n",
    "ent['federal_cdpty'] = np.where((ent.federal_cd == 1) | (ent.wmp_spontype==\"party national\"), 1, 0)"
   ]
  },
  {
   "cell_type": "code",
   "execution_count": null,
   "id": "c8e623bc",
   "metadata": {},
   "outputs": [],
   "source": [
    "'''\n",
    "Merge var table with entity file \n",
    "'''\n",
    "# Meta\n",
    "selected_cols = ['pd_id', 'page_name', 'disclaimer', 'wmp_office', 'wmp_spontype',\n",
    "       'wmpid', 'cand_id', 'federal_cd', 'federal_cdpty']\n",
    "\n",
    "# Google\n",
    "selected_cols = ['advertiser_id', 'advertiser_name', 'wmp_office', 'wmp_spontype',\n",
    "       'wmpid', 'cand_id', 'federal_cd', 'federal_cdpty']\n",
    "\n",
    "# Alternatively, you may merge with \"ent\" table directly, without selecting columns\n",
    "\n",
    "var = var.merge(ent[selected_cols], how='left', on='pd_id')"
   ]
  },
  {
   "cell_type": "code",
   "execution_count": null,
   "id": "a2a521fc",
   "metadata": {},
   "outputs": [],
   "source": [
    "var['wmp_spontype'] = var.wmp_spontype.str.rstrip()"
   ]
  },
  {
   "cell_type": "code",
   "execution_count": null,
   "id": "a235f384",
   "metadata": {},
   "outputs": [],
   "source": [
    "'''\n",
    "Create \"Set 2\"\n",
    "'''\n",
    "var['federal_verified_int'] = np.where(var['federal_verified'] == 'Yes', 1, 0)\n",
    "grouped = var.groupby('pd_id')['federal_verified_int'].max().reset_index()\n",
    "\n",
    "var['set2'] = np.where(var.pd_id.isin(grouped[grouped.federal_verified_int == 1].pd_id.tolist()), 1, 0)\n",
    "\n",
    "'''\n",
    "Replace \"pd_id\" with \"advertiser_id\" for Google dataset\n",
    "'''"
   ]
  },
  {
   "cell_type": "code",
   "execution_count": null,
   "id": "6a3bf520",
   "metadata": {},
   "outputs": [],
   "source": [
    "'''\n",
    "Create \"Set 3\"\n",
    "'''\n",
    "var['set3'] = np.where((var.federal_cdpty == 1) | (var.federal_verified == 'Yes'), 1, 0)"
   ]
  },
  {
   "cell_type": "code",
   "execution_count": null,
   "id": "3fb32e6c",
   "metadata": {},
   "outputs": [],
   "source": [
    "'''\n",
    "Create \"Set 3b\"\n",
    "'''\n",
    "var['set3b'] = np.where((~pd.isna(var.race_of_focus)) & (var.race_of_focus != 'Downballot') & (var.set3 == 1), 1, 0)"
   ]
  },
  {
   "cell_type": "code",
   "execution_count": null,
   "id": "94cb8560",
   "metadata": {},
   "outputs": [],
   "source": [
    "'''\n",
    "Create \"Set 4\"\n",
    "'''\n",
    "var['set4'] = np.where(var.federal_verified == 'Yes', 1, 0)"
   ]
  },
  {
   "cell_type": "code",
   "execution_count": null,
   "id": "a629ef7f",
   "metadata": {},
   "outputs": [],
   "source": [
    "'''\n",
    "Create \"Set 4b\"\n",
    "'''\n",
    "var['set4b'] = np.where(((var.set4 == 1) & (var.race_of_focus != 'Downballot')), 1, 0)"
   ]
  },
  {
   "cell_type": "code",
   "execution_count": null,
   "id": "9418b3a3",
   "metadata": {},
   "outputs": [],
   "source": [
    "'''\n",
    "Write to final full variable \"var\" table in compressed csv format\n",
    "\n",
    "We used \"fb_2022_adid_var.csv.gz\" and \"g2022_adid_var.csv.gz\" as output filenames\n",
    "'''\n",
    "\n",
    "outfile_path = '' # Define your outfile path, including filename\n",
    "\n",
    "var.to_csv(outfile_path,\n",
    "            index=False,\n",
    "            compression={'method': 'gzip', 'compresslevel': 1, 'mtime': 1})"
   ]
  }
 ],
 "metadata": {
  "kernelspec": {
   "display_name": "Python 3 (ipykernel)",
   "language": "python",
   "name": "python3"
  },
  "language_info": {
   "codemirror_mode": {
    "name": "ipython",
    "version": 3
   },
   "file_extension": ".py",
   "mimetype": "text/x-python",
   "name": "python",
   "nbconvert_exporter": "python",
   "pygments_lexer": "ipython3",
   "version": "3.11.4"
  }
 },
 "nbformat": 4,
 "nbformat_minor": 5
}
