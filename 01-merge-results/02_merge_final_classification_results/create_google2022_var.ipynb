{
 "cells": [
  {
   "cell_type": "markdown",
   "id": "83028be2",
   "metadata": {},
   "source": [
    "Adding post-processed variables for Google 2022 and create the \"var table\" (g2022_adid_var.csv). \n",
    "\n",
    "Merging output from these repos: [entity_linking_2022](https://github.com/Wesleyan-Media-Project/entity_linking_2022), [attack_like](https://github.com/Wesleyan-Media-Project/attack_like), [ABSA](https://github.com/Wesleyan-Media-Project/ABSA), [race_of_focus](https://github.com/Wesleyan-Media-Project/race_of_focus),  [party_classifier](https://github.com/Wesleyan-Media-Project/party_classifier), [ad_tone](https://github.com/Wesleyan-Media-Project/ad_tone), [ad_goal_classifier](https://github.com/Wesleyan-Media-Project/ad_goal_classifier), [party_classifier_pdid](https://github.com/Wesleyan-Media-Project/party_classifier_pdid), and [issue_classifier](https://github.com/Wesleyan-Media-Project/issue_classifier)\n",
    "\n",
    "### Output table:\n",
    "+ g2022_adid_var.csv"
   ]
  },
  {
   "cell_type": "code",
   "execution_count": 1,
   "id": "9d79ec01",
   "metadata": {},
   "outputs": [],
   "source": [
    "import os\n",
    "import numpy as np\n",
    "import pandas as pd"
   ]
  },
  {
   "cell_type": "code",
   "execution_count": 3,
   "id": "31bf9f5f",
   "metadata": {},
   "outputs": [],
   "source": [
    "'''\n",
    "Load the var1 table produced from \n",
    "\n",
    "data-post-production/01-merge-results/01_merge_preprocessed_multimedia_results.ipynb\n",
    "'''\n",
    "df = pd.read_csv('g2022_adid_01062021_11082022_var1.csv.gz')"
   ]
  },
  {
   "cell_type": "code",
   "execution_count": 9,
   "id": "1fdcb0ae",
   "metadata": {},
   "outputs": [
    {
     "data": {
      "text/plain": [
       "(179263, 14)"
      ]
     },
     "execution_count": 9,
     "metadata": {},
     "output_type": "execute_result"
    }
   ],
   "source": [
    "df.shape"
   ]
  },
  {
   "cell_type": "markdown",
   "id": "992a5027",
   "metadata": {},
   "source": [
    "# Adding data classification results to \"var1\" table\n",
    "**Note: replace all data import paths below with your local filepaths**"
   ]
  },
  {
   "cell_type": "markdown",
   "id": "fd25bc2c",
   "metadata": {},
   "source": [
    "## Add race of focus"
   ]
  },
  {
   "cell_type": "code",
   "execution_count": 5,
   "id": "1d1cd3d5",
   "metadata": {},
   "outputs": [],
   "source": [
    "rof = pd.read_csv('input_data/race_of_focus_google_2022.csv')"
   ]
  },
  {
   "cell_type": "code",
   "execution_count": 14,
   "id": "0595942e",
   "metadata": {},
   "outputs": [
    {
     "data": {
      "text/html": [
       "<div>\n",
       "<style scoped>\n",
       "    .dataframe tbody tr th:only-of-type {\n",
       "        vertical-align: middle;\n",
       "    }\n",
       "\n",
       "    .dataframe tbody tr th {\n",
       "        vertical-align: top;\n",
       "    }\n",
       "\n",
       "    .dataframe thead th {\n",
       "        text-align: right;\n",
       "    }\n",
       "</style>\n",
       "<table border=\"1\" class=\"dataframe\">\n",
       "  <thead>\n",
       "    <tr style=\"text-align: right;\">\n",
       "      <th></th>\n",
       "      <th>ad_id</th>\n",
       "      <th>sub_bucket</th>\n",
       "      <th>race_of_focus</th>\n",
       "    </tr>\n",
       "  </thead>\n",
       "  <tbody>\n",
       "    <tr>\n",
       "      <th>0</th>\n",
       "      <td>CR00000257354440376321</td>\n",
       "      <td>2</td>\n",
       "      <td>Downballot</td>\n",
       "    </tr>\n",
       "    <tr>\n",
       "      <th>1</th>\n",
       "      <td>CR00000354386341527553</td>\n",
       "      <td>3.3</td>\n",
       "      <td>No race of focus</td>\n",
       "    </tr>\n",
       "    <tr>\n",
       "      <th>2</th>\n",
       "      <td>CR00000387990165651457</td>\n",
       "      <td>2</td>\n",
       "      <td>Downballot</td>\n",
       "    </tr>\n",
       "    <tr>\n",
       "      <th>3</th>\n",
       "      <td>CR00000440354406924289</td>\n",
       "      <td>2</td>\n",
       "      <td>Downballot</td>\n",
       "    </tr>\n",
       "    <tr>\n",
       "      <th>4</th>\n",
       "      <td>CR00000501995777556481</td>\n",
       "      <td>3.3</td>\n",
       "      <td>No race of focus</td>\n",
       "    </tr>\n",
       "    <tr>\n",
       "      <th>...</th>\n",
       "      <td>...</td>\n",
       "      <td>...</td>\n",
       "      <td>...</td>\n",
       "    </tr>\n",
       "    <tr>\n",
       "      <th>179738</th>\n",
       "      <td>CR04756463662258978817</td>\n",
       "      <td>3.3</td>\n",
       "      <td>No race of focus</td>\n",
       "    </tr>\n",
       "    <tr>\n",
       "      <th>179739</th>\n",
       "      <td>CR12343661791669125121</td>\n",
       "      <td>3.3</td>\n",
       "      <td>No race of focus</td>\n",
       "    </tr>\n",
       "    <tr>\n",
       "      <th>179740</th>\n",
       "      <td>CR12343661791669125121</td>\n",
       "      <td>3.3</td>\n",
       "      <td>No race of focus</td>\n",
       "    </tr>\n",
       "    <tr>\n",
       "      <th>179741</th>\n",
       "      <td>CR13232244551881588737</td>\n",
       "      <td>2</td>\n",
       "      <td>Downballot</td>\n",
       "    </tr>\n",
       "    <tr>\n",
       "      <th>179742</th>\n",
       "      <td>CR15382706983039664129</td>\n",
       "      <td>3.3</td>\n",
       "      <td>No race of focus</td>\n",
       "    </tr>\n",
       "  </tbody>\n",
       "</table>\n",
       "<p>179743 rows × 3 columns</p>\n",
       "</div>"
      ],
      "text/plain": [
       "                         ad_id sub_bucket     race_of_focus\n",
       "0       CR00000257354440376321          2        Downballot\n",
       "1       CR00000354386341527553        3.3  No race of focus\n",
       "2       CR00000387990165651457          2        Downballot\n",
       "3       CR00000440354406924289          2        Downballot\n",
       "4       CR00000501995777556481        3.3  No race of focus\n",
       "...                        ...        ...               ...\n",
       "179738  CR04756463662258978817        3.3  No race of focus\n",
       "179739  CR12343661791669125121        3.3  No race of focus\n",
       "179740  CR12343661791669125121        3.3  No race of focus\n",
       "179741  CR13232244551881588737          2        Downballot\n",
       "179742  CR15382706983039664129        3.3  No race of focus\n",
       "\n",
       "[179743 rows x 3 columns]"
      ]
     },
     "execution_count": 14,
     "metadata": {},
     "output_type": "execute_result"
    }
   ],
   "source": [
    "rof"
   ]
  },
  {
   "cell_type": "code",
   "execution_count": null,
   "id": "23e1b88a",
   "metadata": {},
   "outputs": [],
   "source": [
    "df = df.merge(rof, on='ad_id', how='left')"
   ]
  },
  {
   "cell_type": "markdown",
   "id": "43dc7d6f",
   "metadata": {},
   "source": [
    "## Add ad tone"
   ]
  },
  {
   "cell_type": "markdown",
   "id": "7708d72b",
   "metadata": {},
   "source": [
    "### Constructed"
   ]
  },
  {
   "cell_type": "code",
   "execution_count": 18,
   "id": "582ca051",
   "metadata": {},
   "outputs": [],
   "source": [
    "tone_constructed = pd.read_csv('input_data/ad_tone_constructed_g2022.csv.gz')"
   ]
  },
  {
   "cell_type": "code",
   "execution_count": 20,
   "id": "ceeb90a2",
   "metadata": {},
   "outputs": [
    {
     "data": {
      "text/plain": [
       "(200837, 2)"
      ]
     },
     "execution_count": 20,
     "metadata": {},
     "output_type": "execute_result"
    }
   ],
   "source": [
    "tone_constructed.shape"
   ]
  },
  {
   "cell_type": "code",
   "execution_count": 23,
   "id": "5059a263",
   "metadata": {},
   "outputs": [],
   "source": [
    "df = df.merge(tone_constructed, on='ad_id', how='left').drop_duplicates()"
   ]
  },
  {
   "cell_type": "markdown",
   "id": "e8d6934d",
   "metadata": {},
   "source": [
    "### Mentioned"
   ]
  },
  {
   "cell_type": "code",
   "execution_count": 24,
   "id": "66c9ada4",
   "metadata": {},
   "outputs": [],
   "source": [
    "tone_mentioned = pd.read_csv('input_data/ad_tone_mentionbased_g2022.csv')"
   ]
  },
  {
   "cell_type": "code",
   "execution_count": 28,
   "id": "651e7751",
   "metadata": {},
   "outputs": [],
   "source": [
    "df = df.merge(tone_mentioned, on='ad_id', how='left').drop_duplicates()"
   ]
  },
  {
   "cell_type": "code",
   "execution_count": 30,
   "id": "e5fb82ae",
   "metadata": {},
   "outputs": [],
   "source": [
    "df.rename(columns={'ad_tone':'ad_tone_mentionbased'}, inplace=True)"
   ]
  },
  {
   "cell_type": "markdown",
   "id": "23340c01",
   "metadata": {},
   "source": [
    "## Add ad goal"
   ]
  },
  {
   "cell_type": "code",
   "execution_count": 10,
   "id": "6ab44e0f",
   "metadata": {
    "scrolled": true
   },
   "outputs": [],
   "source": [
    "goal = pd.read_csv('input_data/ad_goal_rf_google_2022.csv.gz')"
   ]
  },
  {
   "cell_type": "code",
   "execution_count": 13,
   "id": "baaaa186",
   "metadata": {},
   "outputs": [
    {
     "data": {
      "text/plain": [
       "(179743, 33)"
      ]
     },
     "execution_count": 13,
     "metadata": {},
     "output_type": "execute_result"
    }
   ],
   "source": [
    "goal.shape"
   ]
  },
  {
   "cell_type": "code",
   "execution_count": 12,
   "id": "7974ed59",
   "metadata": {},
   "outputs": [
    {
     "data": {
      "text/html": [
       "<div>\n",
       "<style scoped>\n",
       "    .dataframe tbody tr th:only-of-type {\n",
       "        vertical-align: middle;\n",
       "    }\n",
       "\n",
       "    .dataframe tbody tr th {\n",
       "        vertical-align: top;\n",
       "    }\n",
       "\n",
       "    .dataframe thead th {\n",
       "        text-align: right;\n",
       "    }\n",
       "</style>\n",
       "<table border=\"1\" class=\"dataframe\">\n",
       "  <thead>\n",
       "    <tr style=\"text-align: right;\">\n",
       "      <th></th>\n",
       "      <th>ad_id</th>\n",
       "      <th>wmp_creative_id</th>\n",
       "      <th>ad_type</th>\n",
       "      <th>csum_agg</th>\n",
       "      <th>advertiser_id</th>\n",
       "      <th>aws_face_vid</th>\n",
       "      <th>aws_face_img</th>\n",
       "      <th>impressions</th>\n",
       "      <th>age_targeting</th>\n",
       "      <th>gender_targeting</th>\n",
       "      <th>...</th>\n",
       "      <th>goal_EVENT_predicted_prob</th>\n",
       "      <th>goal_POLL_prediction</th>\n",
       "      <th>goal_POLL_predicted_prob</th>\n",
       "      <th>goal_GATHERINFO_prediction</th>\n",
       "      <th>goal_GATHERINFO_predicted_prob</th>\n",
       "      <th>goal_LEARNMORE_prediction</th>\n",
       "      <th>goal_LEARNMORE_predicted_prob</th>\n",
       "      <th>goal_PRIMARY_PERSUADE_prediction</th>\n",
       "      <th>goal_PRIMARY_PERSUADE_predicted_prob</th>\n",
       "      <th>goal_highest_prob</th>\n",
       "    </tr>\n",
       "  </thead>\n",
       "  <tbody>\n",
       "    <tr>\n",
       "      <th>0</th>\n",
       "      <td>CR00000257354440376321</td>\n",
       "      <td>cid_16941</td>\n",
       "      <td>VIDEO</td>\n",
       "      <td>3a0b45af177cfef8675852003ebb1e57838275d50d20b6...</td>\n",
       "      <td>AR08588079303567081473</td>\n",
       "      <td>WMPID5311;WMPID5292</td>\n",
       "      <td>NaN</td>\n",
       "      <td>400000-450000</td>\n",
       "      <td>18-24, 25-34, 35-44, 45-54, 55-64, ≥65</td>\n",
       "      <td>Male, Female, Unknown gender</td>\n",
       "      <td>...</td>\n",
       "      <td>0.003441</td>\n",
       "      <td>0</td>\n",
       "      <td>0.006437</td>\n",
       "      <td>0</td>\n",
       "      <td>0.016071</td>\n",
       "      <td>1</td>\n",
       "      <td>0.781739</td>\n",
       "      <td>1</td>\n",
       "      <td>0.947580</td>\n",
       "      <td>PRIMARY_PERSUADE</td>\n",
       "    </tr>\n",
       "    <tr>\n",
       "      <th>1</th>\n",
       "      <td>CR00000354386341527553</td>\n",
       "      <td>cid_1742</td>\n",
       "      <td>TEXT</td>\n",
       "      <td>NaN</td>\n",
       "      <td>AR03715945093920718849</td>\n",
       "      <td>NaN</td>\n",
       "      <td>NaN</td>\n",
       "      <td>0-1000</td>\n",
       "      <td>NaN</td>\n",
       "      <td>NaN</td>\n",
       "      <td>...</td>\n",
       "      <td>0.004714</td>\n",
       "      <td>0</td>\n",
       "      <td>0.005244</td>\n",
       "      <td>0</td>\n",
       "      <td>0.013358</td>\n",
       "      <td>1</td>\n",
       "      <td>0.901786</td>\n",
       "      <td>1</td>\n",
       "      <td>0.938611</td>\n",
       "      <td>PRIMARY_PERSUADE</td>\n",
       "    </tr>\n",
       "  </tbody>\n",
       "</table>\n",
       "<p>2 rows × 33 columns</p>\n",
       "</div>"
      ],
      "text/plain": [
       "                    ad_id wmp_creative_id ad_type  \\\n",
       "0  CR00000257354440376321       cid_16941   VIDEO   \n",
       "1  CR00000354386341527553        cid_1742    TEXT   \n",
       "\n",
       "                                            csum_agg           advertiser_id  \\\n",
       "0  3a0b45af177cfef8675852003ebb1e57838275d50d20b6...  AR08588079303567081473   \n",
       "1                                                NaN  AR03715945093920718849   \n",
       "\n",
       "          aws_face_vid aws_face_img    impressions  \\\n",
       "0  WMPID5311;WMPID5292          NaN  400000-450000   \n",
       "1                  NaN          NaN         0-1000   \n",
       "\n",
       "                            age_targeting              gender_targeting  ...  \\\n",
       "0  18-24, 25-34, 35-44, 45-54, 55-64, ≥65  Male, Female, Unknown gender  ...   \n",
       "1                                     NaN                           NaN  ...   \n",
       "\n",
       "  goal_EVENT_predicted_prob goal_POLL_prediction  goal_POLL_predicted_prob  \\\n",
       "0                  0.003441                    0                  0.006437   \n",
       "1                  0.004714                    0                  0.005244   \n",
       "\n",
       "   goal_GATHERINFO_prediction  goal_GATHERINFO_predicted_prob  \\\n",
       "0                           0                        0.016071   \n",
       "1                           0                        0.013358   \n",
       "\n",
       "   goal_LEARNMORE_prediction  goal_LEARNMORE_predicted_prob  \\\n",
       "0                          1                       0.781739   \n",
       "1                          1                       0.901786   \n",
       "\n",
       "   goal_PRIMARY_PERSUADE_prediction  goal_PRIMARY_PERSUADE_predicted_prob  \\\n",
       "0                                 1                              0.947580   \n",
       "1                                 1                              0.938611   \n",
       "\n",
       "   goal_highest_prob  \n",
       "0   PRIMARY_PERSUADE  \n",
       "1   PRIMARY_PERSUADE  \n",
       "\n",
       "[2 rows x 33 columns]"
      ]
     },
     "execution_count": 12,
     "metadata": {},
     "output_type": "execute_result"
    }
   ],
   "source": [
    "goal.head(2)"
   ]
  },
  {
   "cell_type": "code",
   "execution_count": 14,
   "id": "7ac2651f",
   "metadata": {
    "scrolled": false
   },
   "outputs": [
    {
     "data": {
      "text/plain": [
       "Index(['ad_id', 'wmp_creative_id', 'ad_type', 'csum_agg', 'advertiser_id',\n",
       "       'aws_face_vid', 'aws_face_img', 'impressions', 'age_targeting',\n",
       "       'gender_targeting', 'geo_targeting_included', 'geo_targeting_excluded',\n",
       "       'spend_range_min_usd', 'spend_range_max_usd', 'goal_DONATE_prediction',\n",
       "       'goal_DONATE_predicted_prob', 'goal_CONTACT_prediction',\n",
       "       'goal_CONTACT_predicted_prob', 'goal_PURCHASE_prediction',\n",
       "       'goal_PURCHASE_predicted_prob', 'goal_GOTV_prediction',\n",
       "       'goal_GOTV_predicted_prob', 'goal_EVENT_prediction',\n",
       "       'goal_EVENT_predicted_prob', 'goal_POLL_prediction',\n",
       "       'goal_POLL_predicted_prob', 'goal_GATHERINFO_prediction',\n",
       "       'goal_GATHERINFO_predicted_prob', 'goal_LEARNMORE_prediction',\n",
       "       'goal_LEARNMORE_predicted_prob', 'goal_PRIMARY_PERSUADE_prediction',\n",
       "       'goal_PRIMARY_PERSUADE_predicted_prob', 'goal_highest_prob'],\n",
       "      dtype='object')"
      ]
     },
     "execution_count": 14,
     "metadata": {},
     "output_type": "execute_result"
    }
   ],
   "source": [
    "goal.columns"
   ]
  },
  {
   "cell_type": "code",
   "execution_count": 15,
   "id": "7f3f3f59",
   "metadata": {},
   "outputs": [],
   "source": [
    "cols = ['ad_id', 'goal_DONATE_prediction',\n",
    "       'goal_DONATE_predicted_prob', 'goal_CONTACT_prediction',\n",
    "       'goal_CONTACT_predicted_prob', 'goal_PURCHASE_prediction',\n",
    "       'goal_PURCHASE_predicted_prob', 'goal_GOTV_prediction',\n",
    "       'goal_GOTV_predicted_prob', 'goal_EVENT_prediction',\n",
    "       'goal_EVENT_predicted_prob', 'goal_POLL_prediction',\n",
    "       'goal_POLL_predicted_prob', 'goal_GATHERINFO_prediction',\n",
    "       'goal_GATHERINFO_predicted_prob', 'goal_LEARNMORE_prediction',\n",
    "       'goal_LEARNMORE_predicted_prob', 'goal_PRIMARY_PERSUADE_prediction',\n",
    "       'goal_PRIMARY_PERSUADE_predicted_prob', 'goal_highest_prob']"
   ]
  },
  {
   "cell_type": "code",
   "execution_count": 16,
   "id": "1b8c1981",
   "metadata": {},
   "outputs": [],
   "source": [
    "goal = goal[cols]"
   ]
  },
  {
   "cell_type": "code",
   "execution_count": 22,
   "id": "1734cd02",
   "metadata": {},
   "outputs": [],
   "source": [
    "df = df.merge(goal, on='ad_id', how='left').drop_duplicates()"
   ]
  },
  {
   "cell_type": "markdown",
   "id": "8e70942d",
   "metadata": {},
   "source": [
    "## Add party classifier trained at the advertiser level\n"
   ]
  },
  {
   "cell_type": "code",
   "execution_count": 37,
   "id": "713edc7b",
   "metadata": {},
   "outputs": [],
   "source": [
    "party_advertiser = pd.read_csv('input_data/party_all_clf_google_2022_advertiser_id.csv')"
   ]
  },
  {
   "cell_type": "code",
   "execution_count": 41,
   "id": "eff647c4",
   "metadata": {},
   "outputs": [
    {
     "data": {
      "text/plain": [
       "(5148, 2)"
      ]
     },
     "execution_count": 41,
     "metadata": {},
     "output_type": "execute_result"
    }
   ],
   "source": [
    "party_advertiser.shape"
   ]
  },
  {
   "cell_type": "code",
   "execution_count": 42,
   "id": "d4e4a54d",
   "metadata": {},
   "outputs": [
    {
     "data": {
      "text/html": [
       "<div>\n",
       "<style scoped>\n",
       "    .dataframe tbody tr th:only-of-type {\n",
       "        vertical-align: middle;\n",
       "    }\n",
       "\n",
       "    .dataframe tbody tr th {\n",
       "        vertical-align: top;\n",
       "    }\n",
       "\n",
       "    .dataframe thead th {\n",
       "        text-align: right;\n",
       "    }\n",
       "</style>\n",
       "<table border=\"1\" class=\"dataframe\">\n",
       "  <thead>\n",
       "    <tr style=\"text-align: right;\">\n",
       "      <th></th>\n",
       "      <th>advertiser_id</th>\n",
       "      <th>party_all_clf</th>\n",
       "    </tr>\n",
       "  </thead>\n",
       "  <tbody>\n",
       "    <tr>\n",
       "      <th>0</th>\n",
       "      <td>AR00000475401340059649</td>\n",
       "      <td>REP</td>\n",
       "    </tr>\n",
       "    <tr>\n",
       "      <th>1</th>\n",
       "      <td>AR00008638175664668673</td>\n",
       "      <td>DEM</td>\n",
       "    </tr>\n",
       "  </tbody>\n",
       "</table>\n",
       "</div>"
      ],
      "text/plain": [
       "            advertiser_id party_all_clf\n",
       "0  AR00000475401340059649           REP\n",
       "1  AR00008638175664668673           DEM"
      ]
     },
     "execution_count": 42,
     "metadata": {},
     "output_type": "execute_result"
    }
   ],
   "source": [
    "party_advertiser.head(2)"
   ]
  },
  {
   "cell_type": "code",
   "execution_count": 44,
   "id": "cfdf2a7a",
   "metadata": {},
   "outputs": [],
   "source": [
    "df = df.merge(party_advertiser, on='advertiser_id', how='left')"
   ]
  },
  {
   "cell_type": "markdown",
   "id": "81e1c0e4",
   "metadata": {},
   "source": [
    "## Add party classifier at ad level"
   ]
  },
  {
   "cell_type": "code",
   "execution_count": 46,
   "id": "88ee49ab",
   "metadata": {},
   "outputs": [],
   "source": [
    "party_ad = pd.read_csv('input_data/party_predictions_google_2022.csv.gz')"
   ]
  },
  {
   "cell_type": "code",
   "execution_count": 48,
   "id": "754dd9ab",
   "metadata": {},
   "outputs": [
    {
     "data": {
      "text/html": [
       "<div>\n",
       "<style scoped>\n",
       "    .dataframe tbody tr th:only-of-type {\n",
       "        vertical-align: middle;\n",
       "    }\n",
       "\n",
       "    .dataframe tbody tr th {\n",
       "        vertical-align: top;\n",
       "    }\n",
       "\n",
       "    .dataframe thead th {\n",
       "        text-align: right;\n",
       "    }\n",
       "</style>\n",
       "<table border=\"1\" class=\"dataframe\">\n",
       "  <thead>\n",
       "    <tr style=\"text-align: right;\">\n",
       "      <th></th>\n",
       "      <th>ad_id</th>\n",
       "      <th>prob_dem</th>\n",
       "      <th>prob_other</th>\n",
       "      <th>prob_rep</th>\n",
       "      <th>predicted_party_all</th>\n",
       "      <th>predicted_party_all_majvote</th>\n",
       "    </tr>\n",
       "  </thead>\n",
       "  <tbody>\n",
       "    <tr>\n",
       "      <th>0</th>\n",
       "      <td>CR00115889762518171649</td>\n",
       "      <td>0.523488</td>\n",
       "      <td>0.036479</td>\n",
       "      <td>0.440033</td>\n",
       "      <td>DEM</td>\n",
       "      <td>DEM</td>\n",
       "    </tr>\n",
       "    <tr>\n",
       "      <th>1</th>\n",
       "      <td>CR00336564632430837761</td>\n",
       "      <td>0.523488</td>\n",
       "      <td>0.036479</td>\n",
       "      <td>0.440033</td>\n",
       "      <td>DEM</td>\n",
       "      <td>DEM</td>\n",
       "    </tr>\n",
       "  </tbody>\n",
       "</table>\n",
       "</div>"
      ],
      "text/plain": [
       "                    ad_id  prob_dem  prob_other  prob_rep predicted_party_all  \\\n",
       "0  CR00115889762518171649  0.523488    0.036479  0.440033                 DEM   \n",
       "1  CR00336564632430837761  0.523488    0.036479  0.440033                 DEM   \n",
       "\n",
       "  predicted_party_all_majvote  \n",
       "0                         DEM  \n",
       "1                         DEM  "
      ]
     },
     "execution_count": 48,
     "metadata": {},
     "output_type": "execute_result"
    }
   ],
   "source": [
    "party_ad.head(2)"
   ]
  },
  {
   "cell_type": "code",
   "execution_count": 49,
   "id": "7db8e9b6",
   "metadata": {},
   "outputs": [
    {
     "data": {
      "text/html": [
       "<div>\n",
       "<style scoped>\n",
       "    .dataframe tbody tr th:only-of-type {\n",
       "        vertical-align: middle;\n",
       "    }\n",
       "\n",
       "    .dataframe tbody tr th {\n",
       "        vertical-align: top;\n",
       "    }\n",
       "\n",
       "    .dataframe thead th {\n",
       "        text-align: right;\n",
       "    }\n",
       "</style>\n",
       "<table border=\"1\" class=\"dataframe\">\n",
       "  <thead>\n",
       "    <tr style=\"text-align: right;\">\n",
       "      <th></th>\n",
       "      <th>ad_id</th>\n",
       "      <th>prob_dem</th>\n",
       "      <th>prob_other</th>\n",
       "      <th>prob_rep</th>\n",
       "      <th>party_all_clf_adid</th>\n",
       "      <th>party_all_clf_adid_agg</th>\n",
       "    </tr>\n",
       "  </thead>\n",
       "  <tbody>\n",
       "    <tr>\n",
       "      <th>0</th>\n",
       "      <td>CR00115889762518171649</td>\n",
       "      <td>0.523488</td>\n",
       "      <td>0.036479</td>\n",
       "      <td>0.440033</td>\n",
       "      <td>DEM</td>\n",
       "      <td>DEM</td>\n",
       "    </tr>\n",
       "    <tr>\n",
       "      <th>1</th>\n",
       "      <td>CR00336564632430837761</td>\n",
       "      <td>0.523488</td>\n",
       "      <td>0.036479</td>\n",
       "      <td>0.440033</td>\n",
       "      <td>DEM</td>\n",
       "      <td>DEM</td>\n",
       "    </tr>\n",
       "  </tbody>\n",
       "</table>\n",
       "</div>"
      ],
      "text/plain": [
       "                    ad_id  prob_dem  prob_other  prob_rep party_all_clf_adid  \\\n",
       "0  CR00115889762518171649  0.523488    0.036479  0.440033                DEM   \n",
       "1  CR00336564632430837761  0.523488    0.036479  0.440033                DEM   \n",
       "\n",
       "  party_all_clf_adid_agg  \n",
       "0                    DEM  \n",
       "1                    DEM  "
      ]
     },
     "execution_count": 49,
     "metadata": {},
     "output_type": "execute_result"
    }
   ],
   "source": [
    "party_ad.rename(columns={'predicted_party_all': 'party_all_clf_adid', \n",
    "                         'predicted_party_all_majvote': 'party_all_clf_adid_agg'}, inplace=True)\n",
    "party_ad.head(2)"
   ]
  },
  {
   "cell_type": "code",
   "execution_count": 53,
   "id": "cd114646",
   "metadata": {},
   "outputs": [],
   "source": [
    "df = df.merge(party_ad, on='ad_id', how='left').drop_duplicates()"
   ]
  },
  {
   "cell_type": "markdown",
   "id": "28d37c8c",
   "metadata": {},
   "source": [
    "## WMP party_all"
   ]
  },
  {
   "cell_type": "code",
   "execution_count": 55,
   "id": "c69406d1",
   "metadata": {},
   "outputs": [],
   "source": [
    "wmp = pd.read_csv('input_data/wmp_google_2022_entities_v112822.csv', usecols=['advertiser_id', 'party_all'])"
   ]
  },
  {
   "cell_type": "code",
   "execution_count": 56,
   "id": "7e55b169",
   "metadata": {},
   "outputs": [],
   "source": [
    "wmp = wmp.replace('MISSING', np.nan)"
   ]
  },
  {
   "cell_type": "code",
   "execution_count": 57,
   "id": "add64ef0",
   "metadata": {},
   "outputs": [
    {
     "data": {
      "text/plain": [
       "NaN      3155\n",
       "DEM       150\n",
       "REP       123\n",
       "OTHER       6\n",
       "Name: party_all, dtype: int64"
      ]
     },
     "execution_count": 57,
     "metadata": {},
     "output_type": "execute_result"
    }
   ],
   "source": [
    "wmp.party_all.value_counts(dropna=False)"
   ]
  },
  {
   "cell_type": "code",
   "execution_count": 59,
   "id": "b2d01bfa",
   "metadata": {},
   "outputs": [],
   "source": [
    "df = df.merge(wmp, on='advertiser_id', how='left')"
   ]
  },
  {
   "cell_type": "markdown",
   "id": "e9bd664f",
   "metadata": {},
   "source": [
    "## Add detected entities"
   ]
  },
  {
   "cell_type": "code",
   "execution_count": 61,
   "id": "00d9f4e8",
   "metadata": {},
   "outputs": [],
   "source": [
    "ent = pd.read_csv('input_data/entity_linking_results_google_2022_notext_combined.csv.gz')"
   ]
  },
  {
   "cell_type": "code",
   "execution_count": 62,
   "id": "87bee0c2",
   "metadata": {},
   "outputs": [
    {
     "data": {
      "text/plain": [
       "(66688, 3)"
      ]
     },
     "execution_count": 62,
     "metadata": {},
     "output_type": "execute_result"
    }
   ],
   "source": [
    "ent.shape"
   ]
  },
  {
   "cell_type": "code",
   "execution_count": 63,
   "id": "5db859e0",
   "metadata": {},
   "outputs": [
    {
     "data": {
      "text/html": [
       "<div>\n",
       "<style scoped>\n",
       "    .dataframe tbody tr th:only-of-type {\n",
       "        vertical-align: middle;\n",
       "    }\n",
       "\n",
       "    .dataframe tbody tr th {\n",
       "        vertical-align: top;\n",
       "    }\n",
       "\n",
       "    .dataframe thead th {\n",
       "        text-align: right;\n",
       "    }\n",
       "</style>\n",
       "<table border=\"1\" class=\"dataframe\">\n",
       "  <thead>\n",
       "    <tr style=\"text-align: right;\">\n",
       "      <th></th>\n",
       "      <th>ad_id</th>\n",
       "      <th>detected_entities</th>\n",
       "      <th>field</th>\n",
       "    </tr>\n",
       "  </thead>\n",
       "  <tbody>\n",
       "    <tr>\n",
       "      <th>0</th>\n",
       "      <td>CR00000257354440376321</td>\n",
       "      <td>WMPID5311, WMPID5311, WMPID5292, WMPID5311, WM...</td>\n",
       "      <td>advertiser_name, google_asr_text, aws_ocr_vide...</td>\n",
       "    </tr>\n",
       "    <tr>\n",
       "      <th>1</th>\n",
       "      <td>CR00001421943412621313</td>\n",
       "      <td>WMPID1188</td>\n",
       "      <td>ad_text</td>\n",
       "    </tr>\n",
       "  </tbody>\n",
       "</table>\n",
       "</div>"
      ],
      "text/plain": [
       "                    ad_id                                  detected_entities  \\\n",
       "0  CR00000257354440376321  WMPID5311, WMPID5311, WMPID5292, WMPID5311, WM...   \n",
       "1  CR00001421943412621313                                          WMPID1188   \n",
       "\n",
       "                                               field  \n",
       "0  advertiser_name, google_asr_text, aws_ocr_vide...  \n",
       "1                                            ad_text  "
      ]
     },
     "execution_count": 63,
     "metadata": {},
     "output_type": "execute_result"
    }
   ],
   "source": [
    "ent.head(2)"
   ]
  },
  {
   "cell_type": "code",
   "execution_count": 64,
   "id": "6d430c05",
   "metadata": {},
   "outputs": [],
   "source": [
    "ent['detected_entities'] = [i.replace('|', ',') for i in ent['detected_entities']]"
   ]
  },
  {
   "cell_type": "code",
   "execution_count": 65,
   "id": "67d07508",
   "metadata": {},
   "outputs": [
    {
     "data": {
      "text/html": [
       "<div>\n",
       "<style scoped>\n",
       "    .dataframe tbody tr th:only-of-type {\n",
       "        vertical-align: middle;\n",
       "    }\n",
       "\n",
       "    .dataframe tbody tr th {\n",
       "        vertical-align: top;\n",
       "    }\n",
       "\n",
       "    .dataframe thead th {\n",
       "        text-align: right;\n",
       "    }\n",
       "</style>\n",
       "<table border=\"1\" class=\"dataframe\">\n",
       "  <thead>\n",
       "    <tr style=\"text-align: right;\">\n",
       "      <th></th>\n",
       "      <th>ad_id</th>\n",
       "      <th>detected_entities</th>\n",
       "      <th>field</th>\n",
       "    </tr>\n",
       "  </thead>\n",
       "  <tbody>\n",
       "    <tr>\n",
       "      <th>0</th>\n",
       "      <td>CR00000257354440376321</td>\n",
       "      <td>WMPID5311, WMPID5311, WMPID5292, WMPID5311, WM...</td>\n",
       "      <td>advertiser_name, google_asr_text, aws_ocr_vide...</td>\n",
       "    </tr>\n",
       "    <tr>\n",
       "      <th>1</th>\n",
       "      <td>CR00001421943412621313</td>\n",
       "      <td>WMPID1188</td>\n",
       "      <td>ad_text</td>\n",
       "    </tr>\n",
       "    <tr>\n",
       "      <th>2</th>\n",
       "      <td>CR00001915967730876417</td>\n",
       "      <td>WMPID1330</td>\n",
       "      <td>advertiser_name</td>\n",
       "    </tr>\n",
       "  </tbody>\n",
       "</table>\n",
       "</div>"
      ],
      "text/plain": [
       "                    ad_id                                  detected_entities  \\\n",
       "0  CR00000257354440376321  WMPID5311, WMPID5311, WMPID5292, WMPID5311, WM...   \n",
       "1  CR00001421943412621313                                          WMPID1188   \n",
       "2  CR00001915967730876417                                          WMPID1330   \n",
       "\n",
       "                                               field  \n",
       "0  advertiser_name, google_asr_text, aws_ocr_vide...  \n",
       "1                                            ad_text  \n",
       "2                                    advertiser_name  "
      ]
     },
     "execution_count": 65,
     "metadata": {},
     "output_type": "execute_result"
    }
   ],
   "source": [
    "ent.head(3)"
   ]
  },
  {
   "cell_type": "code",
   "execution_count": 66,
   "id": "fbe4346f",
   "metadata": {},
   "outputs": [],
   "source": [
    "df = df.merge(ent, on='ad_id', how='left')"
   ]
  },
  {
   "cell_type": "code",
   "execution_count": 68,
   "id": "73e181e0",
   "metadata": {},
   "outputs": [
    {
     "data": {
      "text/plain": [
       "(195523, 27)"
      ]
     },
     "execution_count": 68,
     "metadata": {},
     "output_type": "execute_result"
    }
   ],
   "source": [
    "df.shape"
   ]
  },
  {
   "cell_type": "markdown",
   "id": "b7a8887f",
   "metadata": {},
   "source": [
    "## Add detected entities federal"
   ]
  },
  {
   "cell_type": "code",
   "execution_count": 70,
   "id": "b526ff7f",
   "metadata": {},
   "outputs": [],
   "source": [
    "cand = pd.read_csv('input_data/wmpcand_120223_wmpid.csv')"
   ]
  },
  {
   "cell_type": "code",
   "execution_count": 72,
   "id": "c4188f94",
   "metadata": {},
   "outputs": [
    {
     "data": {
      "text/html": [
       "<div>\n",
       "<style scoped>\n",
       "    .dataframe tbody tr th:only-of-type {\n",
       "        vertical-align: middle;\n",
       "    }\n",
       "\n",
       "    .dataframe tbody tr th {\n",
       "        vertical-align: top;\n",
       "    }\n",
       "\n",
       "    .dataframe thead th {\n",
       "        text-align: right;\n",
       "    }\n",
       "</style>\n",
       "<table border=\"1\" class=\"dataframe\">\n",
       "  <thead>\n",
       "    <tr style=\"text-align: right;\">\n",
       "      <th></th>\n",
       "      <th>cand_id</th>\n",
       "      <th>wmpid</th>\n",
       "      <th>genelect_cd</th>\n",
       "      <th>CurrCand</th>\n",
       "      <th>cand_name</th>\n",
       "      <th>cand_office</th>\n",
       "      <th>cand_office_st</th>\n",
       "      <th>cand_office_dist</th>\n",
       "      <th>cand_party_affiliation</th>\n",
       "      <th>cand_incumbent_challenger_open_s</th>\n",
       "      <th>...</th>\n",
       "      <th>latino_crp</th>\n",
       "      <th>race_wmp</th>\n",
       "      <th>race_crp1</th>\n",
       "      <th>race_crp2</th>\n",
       "      <th>race_crpmena</th>\n",
       "      <th>hse_cmpt_gen</th>\n",
       "      <th>full_name</th>\n",
       "      <th>first_name</th>\n",
       "      <th>last_name</th>\n",
       "      <th>st_dist</th>\n",
       "    </tr>\n",
       "  </thead>\n",
       "  <tbody>\n",
       "    <tr>\n",
       "      <th>0</th>\n",
       "      <td>H0AL01055</td>\n",
       "      <td>WMPID21</td>\n",
       "      <td>1</td>\n",
       "      <td>Y</td>\n",
       "      <td>CARL, JERRY LEE, JR</td>\n",
       "      <td>H</td>\n",
       "      <td>AL</td>\n",
       "      <td>1.0</td>\n",
       "      <td>REP</td>\n",
       "      <td>INCUMBENT</td>\n",
       "      <td>...</td>\n",
       "      <td>N</td>\n",
       "      <td>White</td>\n",
       "      <td>W</td>\n",
       "      <td>NaN</td>\n",
       "      <td>N</td>\n",
       "      <td>0</td>\n",
       "      <td>Jerry Carl</td>\n",
       "      <td>Jerry</td>\n",
       "      <td>Carl</td>\n",
       "      <td>AL1</td>\n",
       "    </tr>\n",
       "    <tr>\n",
       "      <th>1</th>\n",
       "      <td>H0AL02202</td>\n",
       "      <td>WMPID24</td>\n",
       "      <td>1</td>\n",
       "      <td>Y</td>\n",
       "      <td>HARVEY-HALL, PHYLLIS</td>\n",
       "      <td>H</td>\n",
       "      <td>AL</td>\n",
       "      <td>2.0</td>\n",
       "      <td>DEM</td>\n",
       "      <td>CHALLENGER</td>\n",
       "      <td>...</td>\n",
       "      <td>n</td>\n",
       "      <td>Black</td>\n",
       "      <td>B</td>\n",
       "      <td>NaN</td>\n",
       "      <td>n</td>\n",
       "      <td>0</td>\n",
       "      <td>Phyllis Harvey-Hall</td>\n",
       "      <td>Phyllis</td>\n",
       "      <td>Harvey-Hall</td>\n",
       "      <td>AL2</td>\n",
       "    </tr>\n",
       "  </tbody>\n",
       "</table>\n",
       "<p>2 rows × 28 columns</p>\n",
       "</div>"
      ],
      "text/plain": [
       "     cand_id    wmpid  genelect_cd CurrCand             cand_name cand_office  \\\n",
       "0  H0AL01055  WMPID21            1        Y   CARL, JERRY LEE, JR           H   \n",
       "1  H0AL02202  WMPID24            1        Y  HARVEY-HALL, PHYLLIS           H   \n",
       "\n",
       "  cand_office_st  cand_office_dist cand_party_affiliation  \\\n",
       "0             AL               1.0                    REP   \n",
       "1             AL               2.0                    DEM   \n",
       "\n",
       "  cand_incumbent_challenger_open_s  ... latino_crp race_wmp race_crp1  \\\n",
       "0                        INCUMBENT  ...          N    White         W   \n",
       "1                       CHALLENGER  ...          n    Black         B   \n",
       "\n",
       "  race_crp2  race_crpmena hse_cmpt_gen            full_name  first_name  \\\n",
       "0       NaN             N            0           Jerry Carl       Jerry   \n",
       "1       NaN             n            0  Phyllis Harvey-Hall     Phyllis   \n",
       "\n",
       "     last_name st_dist  \n",
       "0         Carl     AL1  \n",
       "1  Harvey-Hall     AL2  \n",
       "\n",
       "[2 rows x 28 columns]"
      ]
     },
     "execution_count": 72,
     "metadata": {},
     "output_type": "execute_result"
    }
   ],
   "source": [
    "cand.head(2)"
   ]
  },
  {
   "cell_type": "code",
   "execution_count": 73,
   "id": "9bdbd52b",
   "metadata": {},
   "outputs": [
    {
     "data": {
      "text/plain": [
       "H    3612\n",
       "S     683\n",
       "Name: cand_office, dtype: int64"
      ]
     },
     "execution_count": 73,
     "metadata": {},
     "output_type": "execute_result"
    }
   ],
   "source": [
    "cand['cand_office'].value_counts(dropna=False)"
   ]
  },
  {
   "cell_type": "code",
   "execution_count": 74,
   "id": "5a8b158d",
   "metadata": {},
   "outputs": [],
   "source": [
    "candlist = cand['wmpid'].tolist()"
   ]
  },
  {
   "cell_type": "code",
   "execution_count": 75,
   "id": "bf460388",
   "metadata": {},
   "outputs": [],
   "source": [
    "df['detected_entities_federal'] = df['detected_entities'].apply(lambda x: ','.join(list(set([item.strip() for item in str(x).split(',') if item.strip() in candlist]))))\n"
   ]
  },
  {
   "cell_type": "code",
   "execution_count": 76,
   "id": "3f454970",
   "metadata": {},
   "outputs": [],
   "source": [
    "df['detected_entities_federal']= df['detected_entities_federal'].replace('', np.NaN)"
   ]
  },
  {
   "cell_type": "markdown",
   "id": "e6fb690b",
   "metadata": {},
   "source": [
    "## Add attack like"
   ]
  },
  {
   "cell_type": "code",
   "execution_count": 77,
   "id": "a564c814",
   "metadata": {},
   "outputs": [],
   "source": [
    "attacklike = pd.read_csv('input_data/google2022_attack-like.csv')"
   ]
  },
  {
   "cell_type": "code",
   "execution_count": 78,
   "id": "e497d794",
   "metadata": {},
   "outputs": [
    {
     "data": {
      "text/html": [
       "<div>\n",
       "<style scoped>\n",
       "    .dataframe tbody tr th:only-of-type {\n",
       "        vertical-align: middle;\n",
       "    }\n",
       "\n",
       "    .dataframe tbody tr th {\n",
       "        vertical-align: top;\n",
       "    }\n",
       "\n",
       "    .dataframe thead th {\n",
       "        text-align: right;\n",
       "    }\n",
       "</style>\n",
       "<table border=\"1\" class=\"dataframe\">\n",
       "  <thead>\n",
       "    <tr style=\"text-align: right;\">\n",
       "      <th></th>\n",
       "      <th>ad_id</th>\n",
       "      <th>attacklike1_pred</th>\n",
       "      <th>attacklike1_prob</th>\n",
       "      <th>attacklike2_pred</th>\n",
       "      <th>attacklike2_prob</th>\n",
       "      <th>attacklike3_pred</th>\n",
       "    </tr>\n",
       "  </thead>\n",
       "  <tbody>\n",
       "    <tr>\n",
       "      <th>0</th>\n",
       "      <td>CR00002202734107295745</td>\n",
       "      <td>1.0</td>\n",
       "      <td>0.665</td>\n",
       "      <td>1.0</td>\n",
       "      <td>0.989</td>\n",
       "      <td>2.0</td>\n",
       "    </tr>\n",
       "    <tr>\n",
       "      <th>1</th>\n",
       "      <td>CR00002786574781644801</td>\n",
       "      <td>1.0</td>\n",
       "      <td>0.810</td>\n",
       "      <td>1.0</td>\n",
       "      <td>0.976</td>\n",
       "      <td>2.0</td>\n",
       "    </tr>\n",
       "  </tbody>\n",
       "</table>\n",
       "</div>"
      ],
      "text/plain": [
       "                    ad_id  attacklike1_pred  attacklike1_prob  \\\n",
       "0  CR00002202734107295745               1.0             0.665   \n",
       "1  CR00002786574781644801               1.0             0.810   \n",
       "\n",
       "   attacklike2_pred  attacklike2_prob  attacklike3_pred  \n",
       "0               1.0             0.989               2.0  \n",
       "1               1.0             0.976               2.0  "
      ]
     },
     "execution_count": 78,
     "metadata": {},
     "output_type": "execute_result"
    }
   ],
   "source": [
    "attacklike.head(2)"
   ]
  },
  {
   "cell_type": "code",
   "execution_count": 79,
   "id": "30f8cd6c",
   "metadata": {},
   "outputs": [],
   "source": [
    "attacklike.rename(columns={'attacklike1_pred': 'attacklike1_bert_pred', 'attacklike1_prob': 'attacklike1_bert_prob',\n",
    "                           'attacklike2_pred': 'attacklike2_bert_pred', 'attacklike2_prob': 'attacklike2_bert_prob',\n",
    "                          'attacklike3_pred': 'attacklike3_bert_pred'}, inplace=True)"
   ]
  },
  {
   "cell_type": "code",
   "execution_count": 81,
   "id": "3dd48cf9",
   "metadata": {},
   "outputs": [],
   "source": [
    "df = df.merge(attacklike, on='ad_id', how='left')"
   ]
  },
  {
   "cell_type": "markdown",
   "id": "ca3c05db",
   "metadata": {},
   "source": [
    "### Attack like sentiment"
   ]
  },
  {
   "cell_type": "code",
   "execution_count": 82,
   "id": "0bc73571",
   "metadata": {},
   "outputs": [],
   "source": [
    "attacklike_sent = pd.read_csv(\"input_data/google2022_senti.csv\")"
   ]
  },
  {
   "cell_type": "code",
   "execution_count": 83,
   "id": "8aea8858",
   "metadata": {},
   "outputs": [
    {
     "data": {
      "text/html": [
       "<div>\n",
       "<style scoped>\n",
       "    .dataframe tbody tr th:only-of-type {\n",
       "        vertical-align: middle;\n",
       "    }\n",
       "\n",
       "    .dataframe tbody tr th {\n",
       "        vertical-align: top;\n",
       "    }\n",
       "\n",
       "    .dataframe thead th {\n",
       "        text-align: right;\n",
       "    }\n",
       "</style>\n",
       "<table border=\"1\" class=\"dataframe\">\n",
       "  <thead>\n",
       "    <tr style=\"text-align: right;\">\n",
       "      <th></th>\n",
       "      <th>ad_id</th>\n",
       "      <th>btweet_senti</th>\n",
       "      <th>btweet_prob</th>\n",
       "    </tr>\n",
       "  </thead>\n",
       "  <tbody>\n",
       "    <tr>\n",
       "      <th>0</th>\n",
       "      <td>CR00000257354440376321</td>\n",
       "      <td>POS</td>\n",
       "      <td>0.890607</td>\n",
       "    </tr>\n",
       "    <tr>\n",
       "      <th>1</th>\n",
       "      <td>CR00000354386341527553</td>\n",
       "      <td>POS</td>\n",
       "      <td>0.967603</td>\n",
       "    </tr>\n",
       "  </tbody>\n",
       "</table>\n",
       "</div>"
      ],
      "text/plain": [
       "                    ad_id btweet_senti  btweet_prob\n",
       "0  CR00000257354440376321          POS     0.890607\n",
       "1  CR00000354386341527553          POS     0.967603"
      ]
     },
     "execution_count": 83,
     "metadata": {},
     "output_type": "execute_result"
    }
   ],
   "source": [
    "attacklike_sent.head(2)"
   ]
  },
  {
   "cell_type": "code",
   "execution_count": 84,
   "id": "5abbc3c9",
   "metadata": {},
   "outputs": [],
   "source": [
    "attacklike_sent.rename(columns={'btweet_senti': 'attacklike_senti_pred', \n",
    "                                'btweet_prob': 'attacklike_senti_prob'}, inplace=True)"
   ]
  },
  {
   "cell_type": "code",
   "execution_count": 87,
   "id": "cee4a45d",
   "metadata": {},
   "outputs": [],
   "source": [
    "df = df.merge(attacklike_sent, on='ad_id', how='left').drop_duplicates()"
   ]
  },
  {
   "cell_type": "markdown",
   "id": "a3765534",
   "metadata": {},
   "source": [
    "## Add ABSA"
   ]
  },
  {
   "cell_type": "code",
   "execution_count": 89,
   "id": "20fca64e",
   "metadata": {},
   "outputs": [],
   "source": [
    "sent = pd.read_csv(\"input_data/google_2022_ABSA_pred.csv.gz\")"
   ]
  },
  {
   "cell_type": "code",
   "execution_count": 90,
   "id": "7b539d16",
   "metadata": {},
   "outputs": [
    {
     "data": {
      "text/html": [
       "<div>\n",
       "<style scoped>\n",
       "    .dataframe tbody tr th:only-of-type {\n",
       "        vertical-align: middle;\n",
       "    }\n",
       "\n",
       "    .dataframe tbody tr th {\n",
       "        vertical-align: top;\n",
       "    }\n",
       "\n",
       "    .dataframe thead th {\n",
       "        text-align: right;\n",
       "    }\n",
       "</style>\n",
       "<table border=\"1\" class=\"dataframe\">\n",
       "  <thead>\n",
       "    <tr style=\"text-align: right;\">\n",
       "      <th></th>\n",
       "      <th>ad_id</th>\n",
       "      <th>field</th>\n",
       "      <th>detected_entities</th>\n",
       "      <th>start</th>\n",
       "      <th>end</th>\n",
       "      <th>predicted_sentiment</th>\n",
       "    </tr>\n",
       "  </thead>\n",
       "  <tbody>\n",
       "    <tr>\n",
       "      <th>0</th>\n",
       "      <td>CR12885901962544939009</td>\n",
       "      <td>advertiser_name</td>\n",
       "      <td>WMPID3138</td>\n",
       "      <td>33.0</td>\n",
       "      <td>39.0</td>\n",
       "      <td>1</td>\n",
       "    </tr>\n",
       "    <tr>\n",
       "      <th>1</th>\n",
       "      <td>CR18028502563606757377</td>\n",
       "      <td>advertiser_name</td>\n",
       "      <td>WMPID1566</td>\n",
       "      <td>0.0</td>\n",
       "      <td>7.0</td>\n",
       "      <td>1</td>\n",
       "    </tr>\n",
       "  </tbody>\n",
       "</table>\n",
       "</div>"
      ],
      "text/plain": [
       "                    ad_id            field detected_entities  start   end  \\\n",
       "0  CR12885901962544939009  advertiser_name         WMPID3138   33.0  39.0   \n",
       "1  CR18028502563606757377  advertiser_name         WMPID1566    0.0   7.0   \n",
       "\n",
       "   predicted_sentiment  \n",
       "0                    1  \n",
       "1                    1  "
      ]
     },
     "execution_count": 90,
     "metadata": {},
     "output_type": "execute_result"
    }
   ],
   "source": [
    "sent.head(2)"
   ]
  },
  {
   "cell_type": "code",
   "execution_count": 91,
   "id": "905867a4",
   "metadata": {},
   "outputs": [
    {
     "name": "stderr",
     "output_type": "stream",
     "text": [
      "/tmp/ipykernel_20673/2278575057.py:2: SettingWithCopyWarning: \n",
      "A value is trying to be set on a copy of a slice from a DataFrame\n",
      "\n",
      "See the caveats in the documentation: https://pandas.pydata.org/pandas-docs/stable/user_guide/indexing.html#returning-a-view-versus-a-copy\n",
      "  sent2.rename(columns={'field': 'ABSA_field', 'predicted_sentiment': 'ABSA_predicted_sentiment'}, inplace=True)\n"
     ]
    }
   ],
   "source": [
    "sent2 = sent[['ad_id', 'field', 'predicted_sentiment']]\n",
    "sent2.rename(columns={'field': 'ABSA_field', 'predicted_sentiment': 'ABSA_predicted_sentiment'}, inplace=True)"
   ]
  },
  {
   "cell_type": "code",
   "execution_count": 92,
   "id": "aa8ada31",
   "metadata": {},
   "outputs": [],
   "source": [
    "agg_sent = sent2.groupby('ad_id').agg({'ABSA_field': lambda x: ','.join(x),\n",
    "                                       'ABSA_predicted_sentiment': lambda x: ','.join(map(str, x))}).reset_index()"
   ]
  },
  {
   "cell_type": "code",
   "execution_count": 93,
   "id": "9959bfec",
   "metadata": {},
   "outputs": [
    {
     "data": {
      "text/html": [
       "<div>\n",
       "<style scoped>\n",
       "    .dataframe tbody tr th:only-of-type {\n",
       "        vertical-align: middle;\n",
       "    }\n",
       "\n",
       "    .dataframe tbody tr th {\n",
       "        vertical-align: top;\n",
       "    }\n",
       "\n",
       "    .dataframe thead th {\n",
       "        text-align: right;\n",
       "    }\n",
       "</style>\n",
       "<table border=\"1\" class=\"dataframe\">\n",
       "  <thead>\n",
       "    <tr style=\"text-align: right;\">\n",
       "      <th></th>\n",
       "      <th>ad_id</th>\n",
       "      <th>ABSA_field</th>\n",
       "      <th>ABSA_predicted_sentiment</th>\n",
       "    </tr>\n",
       "  </thead>\n",
       "  <tbody>\n",
       "    <tr>\n",
       "      <th>0</th>\n",
       "      <td>CR00000257354440376321</td>\n",
       "      <td>advertiser_name,google_asr_text,google_asr_tex...</td>\n",
       "      <td>1,-1,-1,-1,1,-1,1,1</td>\n",
       "    </tr>\n",
       "    <tr>\n",
       "      <th>1</th>\n",
       "      <td>CR00001421943412621313</td>\n",
       "      <td>ad_text</td>\n",
       "      <td>-1</td>\n",
       "    </tr>\n",
       "    <tr>\n",
       "      <th>2</th>\n",
       "      <td>CR00001915967730876417</td>\n",
       "      <td>advertiser_name</td>\n",
       "      <td>1</td>\n",
       "    </tr>\n",
       "    <tr>\n",
       "      <th>3</th>\n",
       "      <td>CR00002202734107295745</td>\n",
       "      <td>aws_ocr_video_text,aws_ocr_video_text,aws_ocr_...</td>\n",
       "      <td>1,1,1,1,1,1,1,1,1,1,1,1,1,1,1,1,1,1,1,1,1,1,1,...</td>\n",
       "    </tr>\n",
       "  </tbody>\n",
       "</table>\n",
       "</div>"
      ],
      "text/plain": [
       "                    ad_id                                         ABSA_field  \\\n",
       "0  CR00000257354440376321  advertiser_name,google_asr_text,google_asr_tex...   \n",
       "1  CR00001421943412621313                                            ad_text   \n",
       "2  CR00001915967730876417                                    advertiser_name   \n",
       "3  CR00002202734107295745  aws_ocr_video_text,aws_ocr_video_text,aws_ocr_...   \n",
       "\n",
       "                            ABSA_predicted_sentiment  \n",
       "0                                1,-1,-1,-1,1,-1,1,1  \n",
       "1                                                 -1  \n",
       "2                                                  1  \n",
       "3  1,1,1,1,1,1,1,1,1,1,1,1,1,1,1,1,1,1,1,1,1,1,1,...  "
      ]
     },
     "execution_count": 93,
     "metadata": {},
     "output_type": "execute_result"
    }
   ],
   "source": [
    "agg_sent.head(4)"
   ]
  },
  {
   "cell_type": "code",
   "execution_count": 95,
   "id": "f04c7251",
   "metadata": {},
   "outputs": [],
   "source": [
    "df = df.merge(agg_sent, on='ad_id', how='left')"
   ]
  },
  {
   "cell_type": "markdown",
   "id": "86255936",
   "metadata": {},
   "source": [
    "## Add issue classifiers"
   ]
  },
  {
   "cell_type": "code",
   "execution_count": 96,
   "id": "25602761",
   "metadata": {},
   "outputs": [],
   "source": [
    "issue = pd.read_csv('input_data/g2022_output_processed.csv')"
   ]
  },
  {
   "cell_type": "code",
   "execution_count": 97,
   "id": "3e7518fc",
   "metadata": {},
   "outputs": [
    {
     "data": {
      "text/html": [
       "<div>\n",
       "<style scoped>\n",
       "    .dataframe tbody tr th:only-of-type {\n",
       "        vertical-align: middle;\n",
       "    }\n",
       "\n",
       "    .dataframe tbody tr th {\n",
       "        vertical-align: top;\n",
       "    }\n",
       "\n",
       "    .dataframe thead th {\n",
       "        text-align: right;\n",
       "    }\n",
       "</style>\n",
       "<table border=\"1\" class=\"dataframe\">\n",
       "  <thead>\n",
       "    <tr style=\"text-align: right;\">\n",
       "      <th></th>\n",
       "      <th>ad_id</th>\n",
       "      <th>issue_field</th>\n",
       "      <th>issue_class</th>\n",
       "    </tr>\n",
       "  </thead>\n",
       "  <tbody>\n",
       "    <tr>\n",
       "      <th>0</th>\n",
       "      <td>CR00000912113614716929</td>\n",
       "      <td>advertiser_name</td>\n",
       "      <td>ISSUE50</td>\n",
       "    </tr>\n",
       "    <tr>\n",
       "      <th>1</th>\n",
       "      <td>CR00001130641550737409</td>\n",
       "      <td>ad_type</td>\n",
       "      <td>ISSUE37</td>\n",
       "    </tr>\n",
       "  </tbody>\n",
       "</table>\n",
       "</div>"
      ],
      "text/plain": [
       "                     ad_id       issue_field issue_class\n",
       "0   CR00000912113614716929  advertiser_name      ISSUE50\n",
       "1   CR00001130641550737409          ad_type      ISSUE37"
      ]
     },
     "execution_count": 97,
     "metadata": {},
     "output_type": "execute_result"
    }
   ],
   "source": [
    "issue.head(2)"
   ]
  },
  {
   "cell_type": "code",
   "execution_count": 99,
   "id": "37938cb2",
   "metadata": {},
   "outputs": [],
   "source": [
    "df = df.merge(issue, on='ad_id', how='left')"
   ]
  },
  {
   "cell_type": "markdown",
   "id": "240925a4",
   "metadata": {},
   "source": [
    "## Add AWS face federal"
   ]
  },
  {
   "cell_type": "code",
   "execution_count": 101,
   "id": "3b1e7c16",
   "metadata": {},
   "outputs": [],
   "source": [
    "df['aws_face'] = df.apply(lambda row: ','.join(set(str(row['aws_face_img']).split(',')) | set(str(row['aws_face_vid']).split(','))) if (not pd.isnull(row['aws_face_img']) and not pd.isnull(row['aws_face_vid'])) else ','.join([item for item in str(row['aws_face_img']).split(',') + str(row['aws_face_vid']).split(',') if item != 'nan']) if pd.isnull(row['aws_face_img']) or pd.isnull(row['aws_face_vid']) else '', axis=1)\n"
   ]
  },
  {
   "cell_type": "code",
   "execution_count": 102,
   "id": "f6ab47b0",
   "metadata": {},
   "outputs": [],
   "source": [
    "df['aws_face_federal'] = df['aws_face'].apply(lambda x: ','.join(list(set([item.strip() for item in str(x).split(',') if item.strip() in candlist]))))\n"
   ]
  },
  {
   "cell_type": "code",
   "execution_count": 103,
   "id": "73048888",
   "metadata": {},
   "outputs": [],
   "source": [
    "df['aws_face_federal']= df['aws_face_federal'].replace('', np.NaN)"
   ]
  },
  {
   "cell_type": "markdown",
   "id": "71d1a704",
   "metadata": {},
   "source": []
  },
  {
   "cell_type": "code",
   "execution_count": 104,
   "id": "8f527928",
   "metadata": {},
   "outputs": [],
   "source": [
    "df['combined_entities_federal'] = (df['detected_entities_federal'].fillna('') + ',' + df['aws_face_federal'].fillna('')).str.strip(',')"
   ]
  },
  {
   "cell_type": "code",
   "execution_count": 105,
   "id": "32213813",
   "metadata": {},
   "outputs": [],
   "source": [
    "df['combined_entities_federal']= df['combined_entities_federal'].replace('', np.NaN)"
   ]
  },
  {
   "cell_type": "code",
   "execution_count": 106,
   "id": "f7837839",
   "metadata": {},
   "outputs": [],
   "source": [
    "df['combined_entities_federal'] = df['combined_entities_federal'].apply(lambda x: list(set(x.split(','))) if isinstance(x, str) else np.nan)\n"
   ]
  },
  {
   "cell_type": "code",
   "execution_count": 107,
   "id": "e6317d31",
   "metadata": {},
   "outputs": [],
   "source": [
    "df['combined_entities_federal'] = df['combined_entities_federal'].apply(lambda x: ','.join(x) if isinstance(x, list) else np.nan)"
   ]
  },
  {
   "cell_type": "markdown",
   "id": "5e1c667e",
   "metadata": {},
   "source": [
    "## Add federal verified"
   ]
  },
  {
   "cell_type": "code",
   "execution_count": 108,
   "id": "37c07811",
   "metadata": {},
   "outputs": [],
   "source": [
    "df['federal_verified'] = df[['aws_face_federal','detected_entities_federal']].isna().sum(axis=1).apply(lambda x: 'No' if x==2 else 'Yes')"
   ]
  },
  {
   "cell_type": "code",
   "execution_count": 109,
   "id": "488c5a63",
   "metadata": {},
   "outputs": [
    {
     "data": {
      "text/plain": [
       "No     131219\n",
       "Yes     65836\n",
       "Name: federal_verified, dtype: int64"
      ]
     },
     "execution_count": 109,
     "metadata": {},
     "output_type": "execute_result"
    }
   ],
   "source": [
    "df.federal_verified.value_counts(dropna=False)"
   ]
  },
  {
   "cell_type": "markdown",
   "id": "cf0ebe11",
   "metadata": {},
   "source": [
    "## Save final results"
   ]
  },
  {
   "cell_type": "code",
   "execution_count": 23,
   "id": "b1bab396",
   "metadata": {},
   "outputs": [
    {
     "data": {
      "text/plain": [
       "Index(['ad_id', 'advertiser_id', 'date_range_start', 'date_range_end',\n",
       "       'num_of_days', 'impressions', 'age_targeting', 'gender_targeting',\n",
       "       'geo_targeting_included', 'geo_targeting_excluded',\n",
       "       'spend_range_min_usd', 'spend_range_max_usd', 'aws_face_vid',\n",
       "       'aws_face_img', 'sub_bucket', 'race_of_focus', 'ad_tone_constructed',\n",
       "       'ad_tone_mentionbased', 'party_all_clf', 'prob_dem', 'prob_other',\n",
       "       'prob_rep', 'party_all_clf_adid', 'party_all_clf_adid_agg', 'party_all',\n",
       "       'detected_entities', 'field', 'detected_entities_federal',\n",
       "       'attacklike1_bert_pred', 'attacklike1_bert_prob',\n",
       "       'attacklike2_bert_pred', 'attacklike2_bert_prob',\n",
       "       'attacklike3_bert_pred', 'attacklike_senti_pred',\n",
       "       'attacklike_senti_prob', 'ABSA_field', 'ABSA_predicted_sentiment',\n",
       "       'issue_field', 'issue_class', 'aws_face', 'aws_face_federal',\n",
       "       'combined_entities_federal', 'federal_verified',\n",
       "       'goal_DONATE_prediction', 'goal_DONATE_predicted_prob',\n",
       "       'goal_CONTACT_prediction', 'goal_CONTACT_predicted_prob',\n",
       "       'goal_PURCHASE_prediction', 'goal_PURCHASE_predicted_prob',\n",
       "       'goal_GOTV_prediction', 'goal_GOTV_predicted_prob',\n",
       "       'goal_EVENT_prediction', 'goal_EVENT_predicted_prob',\n",
       "       'goal_POLL_prediction', 'goal_POLL_predicted_prob',\n",
       "       'goal_GATHERINFO_prediction', 'goal_GATHERINFO_predicted_prob',\n",
       "       'goal_LEARNMORE_prediction', 'goal_LEARNMORE_predicted_prob',\n",
       "       'goal_PRIMARY_PERSUADE_prediction',\n",
       "       'goal_PRIMARY_PERSUADE_predicted_prob', 'goal_highest_prob'],\n",
       "      dtype='object')"
      ]
     },
     "execution_count": 23,
     "metadata": {},
     "output_type": "execute_result"
    }
   ],
   "source": [
    "df.columns"
   ]
  },
  {
   "cell_type": "code",
   "execution_count": 24,
   "id": "215c3b6b",
   "metadata": {},
   "outputs": [],
   "source": [
    "OUTFILE = \"g2022_adid_var.csv.gz\"\n",
    "\n",
    "df.to_csv(OUTFILE, \n",
    "        index=False,\n",
    "         compression={'method': 'gzip', 'compresslevel': 1, 'mtime': 1})"
   ]
  },
  {
   "cell_type": "code",
   "execution_count": null,
   "id": "75b46ade",
   "metadata": {},
   "outputs": [],
   "source": []
  }
 ],
 "metadata": {
  "kernelspec": {
   "display_name": "Python 3 (ipykernel)",
   "language": "python",
   "name": "python3"
  },
  "language_info": {
   "codemirror_mode": {
    "name": "ipython",
    "version": 3
   },
   "file_extension": ".py",
   "mimetype": "text/x-python",
   "name": "python",
   "nbconvert_exporter": "python",
   "pygments_lexer": "ipython3",
   "version": "3.11.4"
  }
 },
 "nbformat": 4,
 "nbformat_minor": 5
}
