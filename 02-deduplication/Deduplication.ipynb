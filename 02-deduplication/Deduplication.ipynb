{
 "cells": [
  {
   "cell_type": "markdown",
   "id": "3377ab0e",
   "metadata": {},
   "source": [
    "## Final results deduplication\n",
    "\n",
    "Drop **exact duplicates** using a collection of variables appropriate for research objectives\n",
    "\n",
    "For example, you may drop content duplicates based on all of the text fields ('ad_type', 'ad_title', 'ad_text', 'google_asr_text', 'aws_ocr_video_text', 'aws_ocr_img_text') and checksum values ('checksum', derived from the [image and video data preparation](https://github.com/Wesleyan-Media-Project/image-video-data-preparation/blob/main/code/01-get-checksum-for-deduplication.ipynb) step)"
   ]
  },
  {
   "cell_type": "markdown",
   "id": "36dadac1",
   "metadata": {},
   "source": [
    "## Generate creative-level unique IDs \n",
    "Assign a unique ID to each piece of unique creative content "
   ]
  },
  {
   "cell_type": "code",
   "execution_count": null,
   "id": "2c3b999a",
   "metadata": {},
   "outputs": [],
   "source": [
    "import pandas as pd"
   ]
  },
  {
   "cell_type": "code",
   "execution_count": null,
   "id": "9e8c2358",
   "metadata": {},
   "outputs": [],
   "source": [
    "'''\n",
    "Load your final results table\n",
    "'''\n",
    "\n",
    "df = pd.read_csv('my-final-table.csv')"
   ]
  },
  {
   "cell_type": "code",
   "execution_count": null,
   "id": "4a87969b",
   "metadata": {},
   "outputs": [],
   "source": [
    "columns_for_dedup = ['ad_type', 'ad_title', 'ad_text', 'google_asr_text', 'aws_ocr_video_text', 'aws_ocr_img_text', 'checksum']"
   ]
  },
  {
   "cell_type": "code",
   "execution_count": null,
   "id": "0a36dbec",
   "metadata": {},
   "outputs": [],
   "source": [
    "'''\n",
    "Assign group indices (which will be our creative-level unique IDs) to all data points \n",
    "based on repetitive values across columns_for_dedup\n",
    "\n",
    "In other words, duplicated rows will get assigned the same 'ngroups' value\n",
    "variable 'ngroups' is a vector that records the group index for every row \n",
    "'''\n",
    "\n",
    "ngroups = df.groupby(by = columns_for_dedup, dropna=False, as_index=False).ngroup()"
   ]
  },
  {
   "cell_type": "code",
   "execution_count": null,
   "id": "cc8ef664",
   "metadata": {},
   "outputs": [],
   "source": [
    "'''\n",
    "Prefix the group indices and generate unique IDs in text strings denoted as cid_1, cid_2,..., etc.\n",
    "\n",
    "Name the variable accordingly (we named it wmp_creative_id)\n",
    "'''\n",
    "\n",
    "df.loc[:, 'wmp_creative_id'] = ['cid_' + str(i) for i in ngroups]"
   ]
  }
 ],
 "metadata": {
  "kernelspec": {
   "display_name": "Python 3 (ipykernel)",
   "language": "python",
   "name": "python3"
  },
  "language_info": {
   "codemirror_mode": {
    "name": "ipython",
    "version": 3
   },
   "file_extension": ".py",
   "mimetype": "text/x-python",
   "name": "python",
   "nbconvert_exporter": "python",
   "pygments_lexer": "ipython3",
   "version": "3.11.4"
  }
 },
 "nbformat": 4,
 "nbformat_minor": 5
}
