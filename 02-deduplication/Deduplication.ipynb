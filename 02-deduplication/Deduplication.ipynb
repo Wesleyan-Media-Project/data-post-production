{
 "cells": [
  {
   "cell_type": "markdown",
   "id": "3377ab0e",
   "metadata": {},
   "source": [
    "## Final results deduplication\n",
    "\n",
    "This notebook serves two main purposes: \n",
    "\n",
    "1. Identify **exact duplicates** using a collection of variables appropriate for your research objectives\n",
    "\n",
    "> For example, you may define content duplicates based on all of the text fields (e.g. 'ad_creative_body' for Facebook ads, 'ad_text' for Google ads, 'google_asr_text', 'aws_ocr_video_text', 'aws_ocr_img_text') and checksum values ('checksum', derived from the [image-video-data-preparation/code/01-get-checksum-for-deduplication.ipynb](https://github.com/Wesleyan-Media-Project/image-video-data-preparation/blob/main/code/01-get-checksum-for-deduplication.ipynb) step)\n",
    "\n",
    "\n",
    "\n",
    "2. Label duplicate ads with unique creative identifiers (cids)\n",
    "\n",
    "> Output tables of this notebook map ad_ids with their unique creative ids. Therefore, duplicate ads (represented by ad_id) will share the same cids. \n",
    "\n",
    "\n",
    "> Output table for Facebook 2022 ads:\n",
    "> + cid_fb2022.csv\n",
    "\n",
    "> Output table for Google 2022 ads:\n",
    "> + cid_google2022.csv"
   ]
  },
  {
   "cell_type": "markdown",
   "id": "36dadac1",
   "metadata": {},
   "source": [
    "## Generate creative-level unique IDs \n",
    "Assign a unique ID to each piece of unique creative content "
   ]
  },
  {
   "cell_type": "code",
   "execution_count": null,
   "id": "2c3b999a",
   "metadata": {},
   "outputs": [],
   "source": [
    "import pandas as pd"
   ]
  },
  {
   "cell_type": "code",
   "execution_count": null,
   "id": "9e8c2358",
   "metadata": {},
   "outputs": [],
   "source": [
    "'''\n",
    "Load your final ad_id level \"text table\" (output from 01-merge-results/01_merge_preprocessed_results/). \n",
    "\n",
    "for Facebook 2022 ads: \n",
    "fb_2022_adid_text.csv.gz\n",
    "\n",
    "for Google 2022 ads:\n",
    "g2022_adid_01062021_11082022_text.csv\n",
    "\n",
    "'''\n",
    "\n",
    "df = pd.read_csv('my-final-text-table.csv')"
   ]
  },
  {
   "cell_type": "markdown",
   "id": "db5bc82d",
   "metadata": {},
   "source": [
    "If including checksum values to identify duplicate content, merge the `checksum` columns for images and videos (produced from [image and video data preparation/code/01-get-checksum-for-deduplication.ipynb](https://github.com/Wesleyan-Media-Project/image-video-data-preparation/blob/main/code/01-get-checksum-for-deduplication.ipynb)) into `df` on the `filename` column\n"
   ]
  },
  {
   "cell_type": "code",
   "execution_count": null,
   "id": "4a87969b",
   "metadata": {},
   "outputs": [],
   "source": [
    "'''\n",
    "Google ads content deduplication fields\n",
    "'''\n",
    "columns_for_dedup = ['ad_title', 'ad_text', 'google_asr_text', 'aws_ocr_video_text', 'aws_ocr_img_text', 'checksum']\n",
    "\n",
    "\n",
    "'''\n",
    "Facebook ads content deduplication fields\n",
    "'''\n",
    "\n",
    "columns_for_dedup = ['ad_id', 'page_name', 'disclaimer', 'ad_creative_body', 'ad_creative_link_caption', \n",
    "                     'ad_creative_link_title', 'ad_creative_link_description', \n",
    "                     'google_asr_text', 'aws_ocr_text_img', 'aws_ocr_text_vid', 'checksum']"
   ]
  },
  {
   "cell_type": "code",
   "execution_count": null,
   "id": "0a36dbec",
   "metadata": {},
   "outputs": [],
   "source": [
    "'''\n",
    "Assign group indices (which will be our creative-level unique IDs) to all data points \n",
    "based on repetitive values across columns_for_dedup\n",
    "\n",
    "In other words, duplicated rows will get assigned the same 'ngroups' value\n",
    "variable 'ngroups' is a vector that records the group index for every row \n",
    "'''\n",
    "\n",
    "ngroups = df.groupby(by = columns_for_dedup, dropna=False, as_index=False).ngroup()"
   ]
  },
  {
   "cell_type": "code",
   "execution_count": null,
   "id": "cc8ef664",
   "metadata": {},
   "outputs": [],
   "source": [
    "'''\n",
    "Prefix the group indices and generate unique IDs in text strings denoted as cid_1, cid_2,..., etc.\n",
    "\n",
    "Name the variable accordingly (we named it wmp_creative_id)\n",
    "'''\n",
    "\n",
    "df.loc[:, 'wmp_creative_id'] = ['cid_' + str(i) for i in ngroups]"
   ]
  },
  {
   "cell_type": "markdown",
   "id": "4ca54c99",
   "metadata": {},
   "source": [
    "## Save ad_id to cid (creative id) mapping files\n",
    "\n",
    "**ad_id to cid mapping**: ad_ids that share the same cids (creative ids) have duplicate content. "
   ]
  },
  {
   "cell_type": "code",
   "execution_count": null,
   "id": "730ce1f2",
   "metadata": {},
   "outputs": [],
   "source": [
    "adid_cid_mapping = pd.DataFrame({'ad_id': df['ad_id'],\n",
    "             'wmp_creative_id': df['wmp_creative_id']})\n"
   ]
  },
  {
   "cell_type": "code",
   "execution_count": 8,
   "id": "c74fb485",
   "metadata": {},
   "outputs": [
    {
     "data": {
      "text/html": [
       "<div>\n",
       "<style scoped>\n",
       "    .dataframe tbody tr th:only-of-type {\n",
       "        vertical-align: middle;\n",
       "    }\n",
       "\n",
       "    .dataframe tbody tr th {\n",
       "        vertical-align: top;\n",
       "    }\n",
       "\n",
       "    .dataframe thead th {\n",
       "        text-align: right;\n",
       "    }\n",
       "</style>\n",
       "<table border=\"1\" class=\"dataframe\">\n",
       "  <thead>\n",
       "    <tr style=\"text-align: right;\">\n",
       "      <th></th>\n",
       "      <th>ad_id</th>\n",
       "      <th>wmp_creative_id</th>\n",
       "    </tr>\n",
       "  </thead>\n",
       "  <tbody>\n",
       "    <tr>\n",
       "      <th>0</th>\n",
       "      <td>CR00000257354440376321</td>\n",
       "      <td>cid_3604</td>\n",
       "    </tr>\n",
       "    <tr>\n",
       "      <th>1</th>\n",
       "      <td>CR00001130641550737409</td>\n",
       "      <td>cid_26959</td>\n",
       "    </tr>\n",
       "    <tr>\n",
       "      <th>2</th>\n",
       "      <td>CR00001435481149538305</td>\n",
       "      <td>cid_44482</td>\n",
       "    </tr>\n",
       "    <tr>\n",
       "      <th>3</th>\n",
       "      <td>CR00001915967730876417</td>\n",
       "      <td>cid_63037</td>\n",
       "    </tr>\n",
       "    <tr>\n",
       "      <th>4</th>\n",
       "      <td>CR00002202734107295745</td>\n",
       "      <td>cid_50901</td>\n",
       "    </tr>\n",
       "  </tbody>\n",
       "</table>\n",
       "</div>"
      ],
      "text/plain": [
       "                    ad_id wmp_creative_id\n",
       "0  CR00000257354440376321        cid_3604\n",
       "1  CR00001130641550737409       cid_26959\n",
       "2  CR00001435481149538305       cid_44482\n",
       "3  CR00001915967730876417       cid_63037\n",
       "4  CR00002202734107295745       cid_50901"
      ]
     },
     "execution_count": 8,
     "metadata": {},
     "output_type": "execute_result"
    }
   ],
   "source": [
    "'''\n",
    "Preview ad_id to cid mapping file\n",
    "'''\n",
    "adid_cid_mapping.head()"
   ]
  },
  {
   "cell_type": "code",
   "execution_count": null,
   "id": "0a3ea5e8",
   "metadata": {},
   "outputs": [],
   "source": [
    "OUTFILE_NAME = ''\n",
    "\n",
    "'''\n",
    "For example, we named our output data as  \n",
    "\n",
    "'cid_fb2022.csv'\n",
    "\n",
    "'cid_google2022.csv'\n",
    "'''\n",
    "\n",
    "adid_cid_mapping.to_csv(OUTFILE_NAME, index=False)"
   ]
  }
 ],
 "metadata": {
  "kernelspec": {
   "display_name": "Python 3 (ipykernel)",
   "language": "python",
   "name": "python3"
  },
  "language_info": {
   "codemirror_mode": {
    "name": "ipython",
    "version": 3
   },
   "file_extension": ".py",
   "mimetype": "text/x-python",
   "name": "python",
   "nbconvert_exporter": "python",
   "pygments_lexer": "ipython3",
   "version": "3.11.4"
  }
 },
 "nbformat": 4,
 "nbformat_minor": 5
}
